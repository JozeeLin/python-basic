{
 "cells": [
  {
   "cell_type": "markdown",
   "metadata": {},
   "source": [
    "### 扩展切片操作"
   ]
  },
  {
   "cell_type": "code",
   "execution_count": 1,
   "metadata": {},
   "outputs": [
    {
     "name": "stdout",
     "output_type": "stream",
     "text": [
      "hgfedcba\n",
      "aceg\n"
     ]
    }
   ],
   "source": [
    "s = 'abcdefgh'\n",
    "print s[::-1] #可以视作”翻转”操作\n",
    "print s[::2] #隔一个取一个的操作"
   ]
  },
  {
   "cell_type": "code",
   "execution_count": 3,
   "metadata": {},
   "outputs": [
    {
     "name": "stdout",
     "output_type": "stream",
     "text": [
      "abcd\n",
      "abc\n",
      "ab\n",
      "a\n"
     ]
    }
   ],
   "source": [
    "s = 'abcde'\n",
    "i = -1\n",
    "for i in range(-1, -len(s), -1):\n",
    "    print s[:i]"
   ]
  },
  {
   "cell_type": "code",
   "execution_count": 4,
   "metadata": {},
   "outputs": [
    {
     "name": "stdout",
     "output_type": "stream",
     "text": [
      "abcde\n",
      "abcd\n",
      "abc\n",
      "ab\n",
      "a\n"
     ]
    }
   ],
   "source": [
    "#第一次迭代的时候显示完整的字符串\n",
    "s = 'abcde'\n",
    "i = -1\n",
    "for i in [None] + range(-1, -len(s), -1):\n",
    "    print s[:i]"
   ]
  },
  {
   "cell_type": "code",
   "execution_count": 5,
   "metadata": {
    "collapsed": true
   },
   "outputs": [],
   "source": [
    "a = [1,2,3]\n",
    "b = a*3"
   ]
  },
  {
   "cell_type": "code",
   "execution_count": 6,
   "metadata": {},
   "outputs": [
    {
     "name": "stdout",
     "output_type": "stream",
     "text": [
      "[1, 2, 3]\n",
      "[1, 2, 3, 1, 2, 3, 1, 2, 3]\n"
     ]
    }
   ],
   "source": [
    "print a\n",
    "print b"
   ]
  },
  {
   "cell_type": "code",
   "execution_count": 7,
   "metadata": {
    "collapsed": true
   },
   "outputs": [],
   "source": [
    "a[1] = 10"
   ]
  },
  {
   "cell_type": "code",
   "execution_count": 8,
   "metadata": {},
   "outputs": [
    {
     "name": "stdout",
     "output_type": "stream",
     "text": [
      "[1, 10, 3]\n",
      "[1, 2, 3, 1, 2, 3, 1, 2, 3]\n"
     ]
    }
   ],
   "source": [
    "print a\n",
    "print b"
   ]
  },
  {
   "cell_type": "markdown",
   "metadata": {},
   "source": [
    "### 内建函数"
   ]
  },
  {
   "cell_type": "code",
   "execution_count": 9,
   "metadata": {},
   "outputs": [
    {
     "data": {
      "text/plain": [
       "<enumerate at 0x7fe12b7961e0>"
      ]
     },
     "execution_count": 9,
     "metadata": {},
     "output_type": "execute_result"
    }
   ],
   "source": [
    "enumerate(b)"
   ]
  },
  {
   "cell_type": "code",
   "execution_count": 10,
   "metadata": {},
   "outputs": [
    {
     "data": {
      "text/plain": [
       "[(0, 1), (1, 2), (2, 3), (3, 1), (4, 2), (5, 3), (6, 1), (7, 2), (8, 3)]"
      ]
     },
     "execution_count": 10,
     "metadata": {},
     "output_type": "execute_result"
    }
   ],
   "source": [
    "list(enumerate(b))"
   ]
  },
  {
   "cell_type": "code",
   "execution_count": 11,
   "metadata": {},
   "outputs": [
    {
     "data": {
      "text/plain": [
       "<listreverseiterator at 0x7fe12b79fa50>"
      ]
     },
     "execution_count": 11,
     "metadata": {},
     "output_type": "execute_result"
    }
   ],
   "source": [
    "reversed(a)"
   ]
  },
  {
   "cell_type": "code",
   "execution_count": 12,
   "metadata": {},
   "outputs": [
    {
     "data": {
      "text/plain": [
       "[3, 10, 1]"
      ]
     },
     "execution_count": 12,
     "metadata": {},
     "output_type": "execute_result"
    }
   ],
   "source": [
    "list(reversed(a))"
   ]
  },
  {
   "cell_type": "code",
   "execution_count": 13,
   "metadata": {},
   "outputs": [
    {
     "data": {
      "text/plain": [
       "[1, 3, 10]"
      ]
     },
     "execution_count": 13,
     "metadata": {},
     "output_type": "execute_result"
    }
   ],
   "source": [
    "sorted(a)"
   ]
  },
  {
   "cell_type": "code",
   "execution_count": 17,
   "metadata": {},
   "outputs": [
    {
     "data": {
      "text/plain": [
       "16"
      ]
     },
     "execution_count": 17,
     "metadata": {},
     "output_type": "execute_result"
    }
   ],
   "source": [
    "sum(a,2)"
   ]
  },
  {
   "cell_type": "code",
   "execution_count": 18,
   "metadata": {},
   "outputs": [
    {
     "data": {
      "text/plain": [
       "14"
      ]
     },
     "execution_count": 18,
     "metadata": {},
     "output_type": "execute_result"
    }
   ],
   "source": [
    "sum(a)"
   ]
  },
  {
   "cell_type": "code",
   "execution_count": 19,
   "metadata": {},
   "outputs": [
    {
     "data": {
      "text/plain": [
       "[(1, 1), (10, 2), (3, 3)]"
      ]
     },
     "execution_count": 19,
     "metadata": {},
     "output_type": "execute_result"
    }
   ],
   "source": [
    "zip(a,b)"
   ]
  },
  {
   "cell_type": "code",
   "execution_count": 20,
   "metadata": {},
   "outputs": [
    {
     "data": {
      "text/plain": [
       "[1, 2, 3, 1, 2, 3, 1, 2, 3]"
      ]
     },
     "execution_count": 20,
     "metadata": {},
     "output_type": "execute_result"
    }
   ],
   "source": [
    "b"
   ]
  },
  {
   "cell_type": "markdown",
   "metadata": {},
   "source": [
    "## 字符串"
   ]
  },
  {
   "cell_type": "code",
   "execution_count": 22,
   "metadata": {},
   "outputs": [
    {
     "name": "stdout",
     "output_type": "stream",
     "text": [
      "hello world!\n",
      "python is cool!\n",
      "[0, 1, 2, 3]\n"
     ]
    }
   ],
   "source": [
    "aString = 'hello world!'\n",
    "anotheString = 'python is cool!'\n",
    "print aString\n",
    "print anotheString\n",
    "s = str(range(4))\n",
    "print s"
   ]
  },
  {
   "cell_type": "code",
   "execution_count": 23,
   "metadata": {},
   "outputs": [
    {
     "name": "stdout",
     "output_type": "stream",
     "text": [
      "h\n",
      "ello\n",
      "world!\n"
     ]
    }
   ],
   "source": [
    "aString = 'hello world!'\n",
    "print aString[0]\n",
    "print aString[1:5]\n",
    "print aString[6:]"
   ]
  },
  {
   "cell_type": "code",
   "execution_count": 24,
   "metadata": {},
   "outputs": [
    {
     "name": "stdout",
     "output_type": "stream",
     "text": [
      "hello Python!\n",
      "different string altogether\n"
     ]
    }
   ],
   "source": [
    "aString = aString[:6]+'Python!'\n",
    "print aString\n",
    "aString = 'different string altogether'\n",
    "print aString"
   ]
  },
  {
   "cell_type": "code",
   "execution_count": 26,
   "metadata": {},
   "outputs": [
    {
     "name": "stdout",
     "output_type": "stream",
     "text": [
      "hell world!\n"
     ]
    }
   ],
   "source": [
    "aString = 'hello world!'\n",
    "#剔除索引为4的字符\n",
    "aString = aString[:4]+aString[5:]\n",
    "print aString"
   ]
  },
  {
   "cell_type": "code",
   "execution_count": 27,
   "metadata": {},
   "outputs": [
    {
     "name": "stdout",
     "output_type": "stream",
     "text": [
      "True\n",
      "True\n",
      "False\n"
     ]
    }
   ],
   "source": [
    "str1 = 'abc'\n",
    "str2 = 'lmn'\n",
    "str3 = 'xyz'\n",
    "print str1<str2\n",
    "print str2!=str3\n",
    "print str1<str3 and str2 == 'xyz'"
   ]
  },
  {
   "cell_type": "markdown",
   "metadata": {},
   "source": [
    "### 正向索引、反向索引、默认索引"
   ]
  },
  {
   "cell_type": "code",
   "execution_count": 28,
   "metadata": {},
   "outputs": [
    {
     "name": "stdout",
     "output_type": "stream",
     "text": [
      "h\n",
      "el\n",
      "ll\n",
      " \n"
     ]
    }
   ],
   "source": [
    "print aString[0]\n",
    "print aString[1:3]\n",
    "print aString[2:4]\n",
    "print aString[4]"
   ]
  },
  {
   "cell_type": "code",
   "execution_count": 29,
   "metadata": {},
   "outputs": [
    {
     "name": "stdout",
     "output_type": "stream",
     "text": [
      "!\n",
      "ld\n",
      "h\n"
     ]
    }
   ],
   "source": [
    "final_index = -len(aString)\n",
    "print aString[-1]\n",
    "print aString[-3:-1]\n",
    "print aString[final_index]"
   ]
  },
  {
   "cell_type": "code",
   "execution_count": 31,
   "metadata": {},
   "outputs": [
    {
     "name": "stdout",
     "output_type": "stream",
     "text": [
      "ll world!\n",
      "ll world!\n",
      "ll world!\n",
      "hell world\n",
      "hell world\n",
      "hell world!\n"
     ]
    }
   ],
   "source": [
    "print aString[2:] #相当于aString[2:len(aString)]或aString[2:None]\n",
    "print aString[2:None]\n",
    "print aString[2:len(aString)]\n",
    "print aString[:-1]\n",
    "print aString[-len(aString):-1]\n",
    "print aString[:]"
   ]
  },
  {
   "cell_type": "markdown",
   "metadata": {},
   "source": [
    "### 成员操作符"
   ]
  },
  {
   "cell_type": "code",
   "execution_count": 32,
   "metadata": {},
   "outputs": [
    {
     "data": {
      "text/plain": [
       "True"
      ]
     },
     "execution_count": 32,
     "metadata": {},
     "output_type": "execute_result"
    }
   ],
   "source": [
    "'bc' in 'abcd'"
   ]
  },
  {
   "cell_type": "code",
   "execution_count": 33,
   "metadata": {},
   "outputs": [
    {
     "data": {
      "text/plain": [
       "False"
      ]
     },
     "execution_count": 33,
     "metadata": {},
     "output_type": "execute_result"
    }
   ],
   "source": [
    "'n' in 'abcd'"
   ]
  },
  {
   "cell_type": "code",
   "execution_count": 34,
   "metadata": {},
   "outputs": [
    {
     "name": "stdout",
     "output_type": "stream",
     "text": [
      "ABCDEFGHIJKLMNOPQRSTUVWXYZ\n",
      "abcdefghijklmnopqrstuvwxyz\n",
      "ABCDEFGHIJKLMNOPQRSTUVWXYZabcdefghijklmnopqrstuvwxyz\n",
      "0123456789\n"
     ]
    }
   ],
   "source": [
    "import string\n",
    "print string.uppercase\n",
    "print string.lowercase\n",
    "print string.letters\n",
    "print string.digits"
   ]
  },
  {
   "cell_type": "markdown",
   "metadata": {},
   "source": [
    "### 连接符+"
   ]
  },
  {
   "cell_type": "code",
   "execution_count": 35,
   "metadata": {},
   "outputs": [
    {
     "data": {
      "text/plain": [
       "'SPAM'"
      ]
     },
     "execution_count": 35,
     "metadata": {},
     "output_type": "execute_result"
    }
   ],
   "source": [
    "s = 'Spanish'+' '+'Inquisition'+' '+'Made Easy'\n",
    "string.upper(s[:3]+s[20])"
   ]
  },
  {
   "cell_type": "markdown",
   "metadata": {},
   "source": [
    "建议不要使用连接符以及string模块来进行字符串拼接，而是使用字符串格式化操作符%，以及使用join方法，如下所示："
   ]
  },
  {
   "cell_type": "code",
   "execution_count": 37,
   "metadata": {},
   "outputs": [
    {
     "name": "stdout",
     "output_type": "stream",
     "text": [
      "Spanish Inquisition\n",
      "SPAM\n"
     ]
    }
   ],
   "source": [
    "print '%s %s' % ('Spanish','Inquisition')\n",
    "s = ' '.join(['Spanish','Inquisition','Made Easy'])\n",
    "print ('%s%s' % (s[:3],s[20])).upper()"
   ]
  },
  {
   "cell_type": "markdown",
   "metadata": {},
   "source": [
    "### 编译时字符串连接"
   ]
  },
  {
   "cell_type": "code",
   "execution_count": 38,
   "metadata": {},
   "outputs": [
    {
     "name": "stdout",
     "output_type": "stream",
     "text": [
      "Helloworld!\n"
     ]
    }
   ],
   "source": [
    "foo = 'Hello' 'world!'\n",
    "print foo"
   ]
  },
  {
   "cell_type": "code",
   "execution_count": 40,
   "metadata": {
    "collapsed": true
   },
   "outputs": [],
   "source": [
    "import urllib\n",
    "f = urllib.urlopen('http://'  #protocol\n",
    "                  'baidu.com' #hostname\n",
    "                  )"
   ]
  },
  {
   "cell_type": "markdown",
   "metadata": {},
   "source": [
    "### 普通字符串转化成Unicode字符串"
   ]
  },
  {
   "cell_type": "code",
   "execution_count": 41,
   "metadata": {},
   "outputs": [
    {
     "data": {
      "text/plain": [
       "u'hello world!'"
      ]
     },
     "execution_count": 41,
     "metadata": {},
     "output_type": "execute_result"
    }
   ],
   "source": [
    "'hello'+u' '+'world'+u'!'"
   ]
  },
  {
   "cell_type": "code",
   "execution_count": 42,
   "metadata": {},
   "outputs": [
    {
     "data": {
      "text/plain": [
       "'Ni!Ni!Ni!'"
      ]
     },
     "execution_count": 42,
     "metadata": {},
     "output_type": "execute_result"
    }
   ],
   "source": [
    "'Ni!'*3"
   ]
  },
  {
   "cell_type": "markdown",
   "metadata": {},
   "source": [
    "### 格式化输出"
   ]
  },
  {
   "cell_type": "code",
   "execution_count": 45,
   "metadata": {},
   "outputs": [
    {
     "name": "stdout",
     "output_type": "stream",
     "text": [
      "6c\n",
      "6C\n",
      "0x6c\n",
      "0X6C\n",
      "1234.567890\n",
      "1234.57\n",
      "1.234568E+03\n",
      "1.234568e+03\n",
      "1234.57\n",
      "1234.57\n",
      "+4\n",
      "-4\n",
      "we are at 10%\n",
      "your host is: earth\n",
      "Host: mars\tPort: 80\n",
      "dec: 123/oct:0173/hex: 0X7B\n",
      "MM/DD/YY = 02/15/67\n",
      "http://xxx.yyy.zzz/Web/page.html\n"
     ]
    }
   ],
   "source": [
    "#十六进制输出\n",
    "print \"%x\" % 108\n",
    "print \"%X\" % 108\n",
    "print \"%#x\" % 108\n",
    "print \"%#X\" % 108\n",
    "#浮点型和科学记数法形式输出\n",
    "print \"%f\" % 1234.567890\n",
    "print \"%.2f\" % 1234.567890\n",
    "print \"%E\" % 1234.567890\n",
    "print '%e' % 1234.567890\n",
    "print '%g' % 1234.567890\n",
    "print '%G' % 1234.567890\n",
    "#整型和字符串输出\n",
    "print \"%+d\" % 4\n",
    "print \"%+d\" % -4\n",
    "print 'we are at %d%%' % 10\n",
    "print 'your host is: %s' % 'earth'\n",
    "print 'Host: %s\\tPort: %d' % ('mars',80)\n",
    "num = 123\n",
    "print 'dec: %d/oct:%#o/hex: %#X' % (num,num,num)\n",
    "print 'MM/DD/YY = %02d/%02d/%d' % (2,15,67)\n",
    "w,p = 'Web','page'\n",
    "print 'http://xxx.yyy.zzz/%s/%s.html' % (w,p)"
   ]
  },
  {
   "cell_type": "markdown",
   "metadata": {},
   "source": [
    "### 字符串模板"
   ]
  },
  {
   "cell_type": "code",
   "execution_count": 47,
   "metadata": {},
   "outputs": [
    {
     "name": "stdout",
     "output_type": "stream",
     "text": [
      "There are 3 Python Quotation Symbols\n"
     ]
    },
    {
     "ename": "KeyError",
     "evalue": "'howmany'",
     "output_type": "error",
     "traceback": [
      "\u001b[0;31m---------------------------------------------------------------------------\u001b[0m",
      "\u001b[0;31mKeyError\u001b[0m                                  Traceback (most recent call last)",
      "\u001b[0;32m<ipython-input-47-228fff85c68f>\u001b[0m in \u001b[0;36m<module>\u001b[0;34m()\u001b[0m\n\u001b[1;32m      2\u001b[0m \u001b[0ms\u001b[0m \u001b[0;34m=\u001b[0m \u001b[0mTemplate\u001b[0m\u001b[0;34m(\u001b[0m\u001b[0;34m'There are ${howmany} ${lang} Quotation Symbols'\u001b[0m\u001b[0;34m)\u001b[0m\u001b[0;34m\u001b[0m\u001b[0m\n\u001b[1;32m      3\u001b[0m \u001b[0;32mprint\u001b[0m \u001b[0ms\u001b[0m\u001b[0;34m.\u001b[0m\u001b[0msubstitute\u001b[0m\u001b[0;34m(\u001b[0m\u001b[0mlang\u001b[0m\u001b[0;34m=\u001b[0m\u001b[0;34m'Python'\u001b[0m\u001b[0;34m,\u001b[0m\u001b[0mhowmany\u001b[0m\u001b[0;34m=\u001b[0m\u001b[0;36m3\u001b[0m\u001b[0;34m)\u001b[0m\u001b[0;34m\u001b[0m\u001b[0m\n\u001b[0;32m----> 4\u001b[0;31m \u001b[0;32mprint\u001b[0m \u001b[0ms\u001b[0m\u001b[0;34m.\u001b[0m\u001b[0msubstitute\u001b[0m\u001b[0;34m(\u001b[0m\u001b[0mlang\u001b[0m\u001b[0;34m=\u001b[0m\u001b[0;34m'Python'\u001b[0m\u001b[0;34m)\u001b[0m\u001b[0;34m\u001b[0m\u001b[0m\n\u001b[0m",
      "\u001b[0;32m/home/parallels/anaconda2/lib/python2.7/string.pyc\u001b[0m in \u001b[0;36msubstitute\u001b[0;34m(*args, **kws)\u001b[0m\n\u001b[1;32m    174\u001b[0m             raise ValueError('Unrecognized named group in pattern',\n\u001b[1;32m    175\u001b[0m                              self.pattern)\n\u001b[0;32m--> 176\u001b[0;31m         \u001b[0;32mreturn\u001b[0m \u001b[0mself\u001b[0m\u001b[0;34m.\u001b[0m\u001b[0mpattern\u001b[0m\u001b[0;34m.\u001b[0m\u001b[0msub\u001b[0m\u001b[0;34m(\u001b[0m\u001b[0mconvert\u001b[0m\u001b[0;34m,\u001b[0m \u001b[0mself\u001b[0m\u001b[0;34m.\u001b[0m\u001b[0mtemplate\u001b[0m\u001b[0;34m)\u001b[0m\u001b[0;34m\u001b[0m\u001b[0m\n\u001b[0m\u001b[1;32m    177\u001b[0m \u001b[0;34m\u001b[0m\u001b[0m\n\u001b[1;32m    178\u001b[0m     \u001b[0;32mdef\u001b[0m \u001b[0msafe_substitute\u001b[0m\u001b[0;34m(\u001b[0m\u001b[0;34m*\u001b[0m\u001b[0margs\u001b[0m\u001b[0;34m,\u001b[0m \u001b[0;34m**\u001b[0m\u001b[0mkws\u001b[0m\u001b[0;34m)\u001b[0m\u001b[0;34m:\u001b[0m\u001b[0;34m\u001b[0m\u001b[0m\n",
      "\u001b[0;32m/home/parallels/anaconda2/lib/python2.7/string.pyc\u001b[0m in \u001b[0;36mconvert\u001b[0;34m(mo)\u001b[0m\n\u001b[1;32m    164\u001b[0m             \u001b[0mnamed\u001b[0m \u001b[0;34m=\u001b[0m \u001b[0mmo\u001b[0m\u001b[0;34m.\u001b[0m\u001b[0mgroup\u001b[0m\u001b[0;34m(\u001b[0m\u001b[0;34m'named'\u001b[0m\u001b[0;34m)\u001b[0m \u001b[0;32mor\u001b[0m \u001b[0mmo\u001b[0m\u001b[0;34m.\u001b[0m\u001b[0mgroup\u001b[0m\u001b[0;34m(\u001b[0m\u001b[0;34m'braced'\u001b[0m\u001b[0;34m)\u001b[0m\u001b[0;34m\u001b[0m\u001b[0m\n\u001b[1;32m    165\u001b[0m             \u001b[0;32mif\u001b[0m \u001b[0mnamed\u001b[0m \u001b[0;32mis\u001b[0m \u001b[0;32mnot\u001b[0m \u001b[0mNone\u001b[0m\u001b[0;34m:\u001b[0m\u001b[0;34m\u001b[0m\u001b[0m\n\u001b[0;32m--> 166\u001b[0;31m                 \u001b[0mval\u001b[0m \u001b[0;34m=\u001b[0m \u001b[0mmapping\u001b[0m\u001b[0;34m[\u001b[0m\u001b[0mnamed\u001b[0m\u001b[0;34m]\u001b[0m\u001b[0;34m\u001b[0m\u001b[0m\n\u001b[0m\u001b[1;32m    167\u001b[0m                 \u001b[0;31m# We use this idiom instead of str() because the latter will\u001b[0m\u001b[0;34m\u001b[0m\u001b[0;34m\u001b[0m\u001b[0m\n\u001b[1;32m    168\u001b[0m                 \u001b[0;31m# fail if val is a Unicode containing non-ASCII characters.\u001b[0m\u001b[0;34m\u001b[0m\u001b[0;34m\u001b[0m\u001b[0m\n",
      "\u001b[0;31mKeyError\u001b[0m: 'howmany'"
     ]
    }
   ],
   "source": [
    "from string import Template\n",
    "s = Template('There are ${howmany} ${lang} Quotation Symbols')\n",
    "print s.substitute(lang='Python',howmany=3)\n",
    "print s.substitute(lang='Python')"
   ]
  },
  {
   "cell_type": "code",
   "execution_count": 48,
   "metadata": {},
   "outputs": [
    {
     "name": "stdout",
     "output_type": "stream",
     "text": [
      "There are ${howmany} Python Quotation Symbols\n"
     ]
    }
   ],
   "source": [
    "print s.safe_substitute(lang='Python')"
   ]
  },
  {
   "cell_type": "markdown",
   "metadata": {},
   "source": [
    "### 字符串类型函数"
   ]
  },
  {
   "cell_type": "code",
   "execution_count": 49,
   "metadata": {},
   "outputs": [
    {
     "name": "stdout",
     "output_type": "stream",
     "text": [
      "Enter your name:ddd\n",
      "ddd\n",
      "3\n"
     ]
    }
   ],
   "source": [
    "user_input = raw_input('Enter your name:')\n",
    "print user_input\n",
    "print len(user_input)"
   ]
  },
  {
   "cell_type": "code",
   "execution_count": 50,
   "metadata": {},
   "outputs": [
    {
     "name": "stdout",
     "output_type": "stream",
     "text": [
      "False\n",
      "True\n",
      "True\n",
      "False\n"
     ]
    }
   ],
   "source": [
    "print isinstance(u'\\0xAB', str)\n",
    "print not isinstance('foo', unicode)\n",
    "print isinstance(u'', basestring)\n",
    "print not isinstance('foo', basestring)"
   ]
  },
  {
   "cell_type": "code",
   "execution_count": 52,
   "metadata": {},
   "outputs": [
    {
     "name": "stdout",
     "output_type": "stream",
     "text": [
      "A\n",
      "97\n",
      "〹\n"
     ]
    },
    {
     "ename": "ValueError",
     "evalue": "chr() arg not in range(256)",
     "output_type": "error",
     "traceback": [
      "\u001b[0;31m---------------------------------------------------------------------------\u001b[0m",
      "\u001b[0;31mValueError\u001b[0m                                Traceback (most recent call last)",
      "\u001b[0;32m<ipython-input-52-6e7cc9e06766>\u001b[0m in \u001b[0;36m<module>\u001b[0;34m()\u001b[0m\n\u001b[1;32m      2\u001b[0m \u001b[0;32mprint\u001b[0m \u001b[0mord\u001b[0m\u001b[0;34m(\u001b[0m\u001b[0;34m'a'\u001b[0m\u001b[0;34m)\u001b[0m\u001b[0;34m\u001b[0m\u001b[0m\n\u001b[1;32m      3\u001b[0m \u001b[0;32mprint\u001b[0m \u001b[0munichr\u001b[0m\u001b[0;34m(\u001b[0m\u001b[0;36m12345\u001b[0m\u001b[0;34m)\u001b[0m\u001b[0;34m\u001b[0m\u001b[0m\n\u001b[0;32m----> 4\u001b[0;31m \u001b[0;32mprint\u001b[0m \u001b[0mchr\u001b[0m\u001b[0;34m(\u001b[0m\u001b[0;36m12345\u001b[0m\u001b[0;34m)\u001b[0m\u001b[0;34m\u001b[0m\u001b[0m\n\u001b[0m",
      "\u001b[0;31mValueError\u001b[0m: chr() arg not in range(256)"
     ]
    }
   ],
   "source": [
    "print chr(65)\n",
    "print ord('a')\n",
    "print unichr(12345)\n",
    "print chr(12345) #如果提供的参数不在允许的范围内，则会报一个ValueError异常"
   ]
  },
  {
   "cell_type": "code",
   "execution_count": 54,
   "metadata": {},
   "outputs": [
    {
     "name": "stdout",
     "output_type": "stream",
     "text": [
      "9029\n"
     ]
    },
    {
     "ename": "TypeError",
     "evalue": "ord() expected a character, but string of length 2 found",
     "output_type": "error",
     "traceback": [
      "\u001b[0;31m---------------------------------------------------------------------------\u001b[0m",
      "\u001b[0;31mTypeError\u001b[0m                                 Traceback (most recent call last)",
      "\u001b[0;32m<ipython-input-54-943ebb8882eb>\u001b[0m in \u001b[0;36m<module>\u001b[0;34m()\u001b[0m\n\u001b[1;32m      1\u001b[0m \u001b[0;32mprint\u001b[0m \u001b[0mord\u001b[0m\u001b[0;34m(\u001b[0m\u001b[0;34mu'\\u2345'\u001b[0m\u001b[0;34m)\u001b[0m\u001b[0;34m\u001b[0m\u001b[0m\n\u001b[0;32m----> 2\u001b[0;31m \u001b[0;32mprint\u001b[0m \u001b[0mord\u001b[0m\u001b[0;34m(\u001b[0m\u001b[0;34mu'\\ufffff'\u001b[0m\u001b[0;34m)\u001b[0m\u001b[0;34m\u001b[0m\u001b[0m\n\u001b[0m",
      "\u001b[0;31mTypeError\u001b[0m: ord() expected a character, but string of length 2 found"
     ]
    }
   ],
   "source": [
    "print ord(u'\\u2345')\n",
    "print ord(u'\\ufffff') #以一个字符作为参数，返回对应的ASCII数值，或者Unicode数值，如果超出定义范围，引发TypeError的异常"
   ]
  },
  {
   "cell_type": "markdown",
   "metadata": {
    "collapsed": true
   },
   "source": [
    "### 字符串不变性"
   ]
  },
  {
   "cell_type": "code",
   "execution_count": 2,
   "metadata": {},
   "outputs": [
    {
     "name": "stdout",
     "output_type": "stream",
     "text": [
      "abcdef\n",
      "140658538319824\n",
      "140658416033248\n"
     ]
    }
   ],
   "source": [
    "print 'abc'+'def'\n",
    "s = 'abc'\n",
    "print id(s)\n",
    "s = s+'def'\n",
    "print id(s)"
   ]
  },
  {
   "cell_type": "markdown",
   "metadata": {},
   "source": [
    "### Unicode编码解码"
   ]
  },
  {
   "cell_type": "code",
   "execution_count": 4,
   "metadata": {},
   "outputs": [
    {
     "name": "stdout",
     "output_type": "stream",
     "text": [
      "hello world!\n",
      "\n"
     ]
    }
   ],
   "source": [
    "CODEC='utf-8'\n",
    "FILE = 'unicode.txt'\n",
    "hello_out = u'hello world!\\n'\n",
    "bytes_out = hello_out.encode(CODEC)\n",
    "f = open(FILE,'w')\n",
    "f.write(bytes_out)\n",
    "f.close()\n",
    "\n",
    "f = open(FILE,'r')\n",
    "bytes_in = f.read()\n",
    "f.close()\n",
    "hello_in = bytes_in.decode(CODEC)\n",
    "print hello_in"
   ]
  },
  {
   "cell_type": "code",
   "execution_count": 6,
   "metadata": {},
   "outputs": [
    {
     "name": "stdout",
     "output_type": "stream",
     "text": [
      "u'hello  world'\n",
      "'hello  world'\n",
      "u'hello  world'\n",
      "u'8 dollar'\n"
     ]
    }
   ],
   "source": [
    "a = u'%s %s' % ('hello',' world')\n",
    "print `a`\n",
    "a = '%s %s' % ('hello',' world')\n",
    "print `a`\n",
    "a = '%s %s' % (u'hello',' world')\n",
    "print `a`\n",
    "a = u'%d %s' % (8, 'dollar')\n",
    "print `a`"
   ]
  },
  {
   "cell_type": "markdown",
   "metadata": {},
   "source": [
    "### 列表"
   ]
  },
  {
   "cell_type": "code",
   "execution_count": 8,
   "metadata": {},
   "outputs": [
    {
     "name": "stdout",
     "output_type": "stream",
     "text": [
      "Create: [123, 'abc', 4.56, ['inner', 'list'], (7-9j)]\n",
      "Create: [None, 'something to see here']\n",
      "Create: []\n",
      "['f', 'o', 'o']\n",
      "Access: 123\n",
      "Access: ['abc', 4.56, ['inner', 'list']]\n",
      "Access: [123, 'abc', 4.56]\n",
      "Access: list\n",
      "Before del: [123, 'abc', 'float replacer', ['inner', 'list'], (7-9j)]\n",
      "After del: [123, 'float replacer', ['inner', 'list'], (7-9j)]\n",
      "After remove: ['float replacer', ['inner', 'list'], (7-9j)]\n"
     ]
    }
   ],
   "source": [
    "#创建列表并赋值\n",
    "aList = [123,'abc',4.56,['inner','list'],7-9j]\n",
    "anotherList = [None,'something to see here']\n",
    "print 'Create:',aList\n",
    "print 'Create:',anotherList\n",
    "aListThatStartedEmpty=[]\n",
    "print 'Create:',aListThatStartedEmpty\n",
    "print list('foo')\n",
    "#如何访问列表中的值\n",
    "print 'Access:',aList[0]\n",
    "print 'Access:',aList[1:4]\n",
    "print 'Access:',aList[:3]\n",
    "print 'Access:',aList[3][1]\n",
    "#如何更新列表\n",
    "aList[2] = 'float replacer' #直接修改指定的元素\n",
    "anotherList.append('hi, i am new here') #通过append追加元素到列表末尾\n",
    "aListThatStartedEmpty.append('not empty anymore')\n",
    "#如何删除列表中的元素或列表本身\n",
    "print 'Before del:',aList\n",
    "del aList[1] #删除列表中的第1个元素（指定索引）\n",
    "print 'After del:',aList\n",
    "aList.remove(123) #删除指定元素值的元素\n",
    "print 'After remove:',aList"
   ]
  },
  {
   "cell_type": "markdown",
   "metadata": {},
   "source": [
    "### 列表操作符"
   ]
  },
  {
   "cell_type": "code",
   "execution_count": 12,
   "metadata": {},
   "outputs": [
    {
     "name": "stdout",
     "output_type": "stream",
     "text": [
      "True\n",
      "False\n",
      "True\n"
     ]
    }
   ],
   "source": [
    "a = [123,456]\n",
    "b = [456,123]\n",
    "if a<b:\n",
    "    print True\n",
    "    \n",
    "b = [123,456]\n",
    "if a<b:\n",
    "    print True\n",
    "elif a==b:\n",
    "    print False\n",
    "else:\n",
    "    print -1\n",
    "    \n",
    "b = [123,456,789]\n",
    "if a<b:\n",
    "    print True\n",
    "elif a==b:\n",
    "    print False\n",
    "else:\n",
    "    print -1"
   ]
  },
  {
   "cell_type": "markdown",
   "metadata": {},
   "source": [
    "### 序列类型操作符"
   ]
  },
  {
   "cell_type": "code",
   "execution_count": 15,
   "metadata": {},
   "outputs": [
    {
     "name": "stdout",
     "output_type": "stream",
     "text": [
      "-1.23\n",
      "[-1.23, -2, 619000.0]\n",
      "[-2]\n",
      "over\n",
      "['jack', 'jumped']\n",
      "[1, 'x']\n",
      "x\n",
      "[43, -1.23, 16.0, -49]\n",
      "[123, 456, -49]\n",
      "True\n",
      "False\n",
      "True\n",
      "[123, 456, -49, 4.0, [1, 'x'], 'beef', (-1.9+6j)]\n",
      "['jack', 'jumped', 'over', 'condlestick', 123, 456, -49]\n",
      "[123, 456, -49, 123, 456, -49]\n"
     ]
    },
    {
     "ename": "TypeError",
     "evalue": "can only concatenate list (not \"str\") to list",
     "output_type": "error",
     "traceback": [
      "\u001b[0;31m---------------------------------------------------------------------------\u001b[0m",
      "\u001b[0;31mTypeError\u001b[0m                                 Traceback (most recent call last)",
      "\u001b[0;32m<ipython-input-15-d426ab0c35f9>\u001b[0m in \u001b[0;36m<module>\u001b[0;34m()\u001b[0m\n\u001b[1;32m     27\u001b[0m \u001b[0mhr\u001b[0m \u001b[0;34m*=\u001b[0m \u001b[0;36m30\u001b[0m \u001b[0;31m#支持复合运算\u001b[0m\u001b[0;34m\u001b[0m\u001b[0m\n\u001b[1;32m     28\u001b[0m \u001b[0;34m\u001b[0m\u001b[0m\n\u001b[0;32m---> 29\u001b[0;31m \u001b[0;32mprint\u001b[0m \u001b[0mnum_list\u001b[0m\u001b[0;34m+\u001b[0m\u001b[0;34m'new item'\u001b[0m \u001b[0;31m#TypeError,不能实现向列表中添加新元素的操作，原因是连接符的两个操作数不同类型。\u001b[0m\u001b[0;34m\u001b[0m\u001b[0m\n\u001b[0m",
      "\u001b[0;31mTypeError\u001b[0m: can only concatenate list (not \"str\") to list"
     ]
    }
   ],
   "source": [
    "#切片\n",
    "num_list = [43,-1.23,-2,6.19e5]\n",
    "str_list = ['jack','jumped','over','condlestick']\n",
    "mixup_list = [4.0,[1,'x'],'beef',-1.9+6j]\n",
    "print num_list[1]\n",
    "print num_list[1:]\n",
    "print num_list[2:-1]\n",
    "print str_list[2]\n",
    "print str_list[:2]\n",
    "print mixup_list[1]\n",
    "print mixup_list[1][1]\n",
    "num_list[2:4] = [16.0,-49]\n",
    "print num_list\n",
    "num_list[0:3] = [123,456]\n",
    "print num_list\n",
    "#成员关系操作(in,not in)\n",
    "print 'beef' in mixup_list\n",
    "print 'x' in mixup_list #'x'并不属于mixup_list\n",
    "print 'x' in mixup_list[1]\n",
    "#连接操作符+(它会创建一个新的列表)，而extend方法是把一个列表追加到另一个列表的末尾，没有创建新的列表,相当于+=连接符的复合运算。\n",
    "print num_list+mixup_list \n",
    "print str_list+num_list\n",
    "\n",
    "#重复操作符*\n",
    "print num_list * 2\n",
    "hr = '-'\n",
    "hr *= 30 #支持复合运算\n",
    "\n",
    "print num_list+'new item' #TypeError,不能实现向列表中添加新元素的操作，原因是连接符的两个操作数不同类型。"
   ]
  },
  {
   "cell_type": "markdown",
   "metadata": {},
   "source": [
    "### 列表的序列类型函数"
   ]
  },
  {
   "cell_type": "code",
   "execution_count": 19,
   "metadata": {},
   "outputs": [
    {
     "name": "stdout",
     "output_type": "stream",
     "text": [
      "3\n",
      "6\n",
      "over\n",
      "456\n",
      "condlestick\n",
      "-49\n",
      "small they are when them stamp They ['They', 'small', 'stamp', 'them', 'they are', 'when']\n",
      "0 tales\n",
      "1 robot\n",
      "2 pyramid\n",
      "Ian Bairnson\n",
      "Stuart Elliott\n",
      "David Paton\n",
      "15\n",
      "15\n",
      "20\n",
      "['Tao', 93, 99, 'time'] ('Tao', 93, 99, 'time')\n",
      "True\n",
      "False\n",
      "[139771832112120, 139771834604104, 139771832112552]\n"
     ]
    }
   ],
   "source": [
    "#len()\n",
    "print len(num_list)\n",
    "print len(num_list*2)\n",
    "#max(),min().注意：混合对象的结构越复杂返回的结构准确性就越差\n",
    "print max(str_list)\n",
    "print max(num_list)\n",
    "print min(str_list)\n",
    "print min(num_list)\n",
    "#sorted(),reversed()\n",
    "s = ['They','stamp','them','when','they are', 'small']\n",
    "for t in reversed(s):\n",
    "    print t,\n",
    "print sorted(s)\n",
    "#enumerate(),zip()\n",
    "albums = ['tales','robot','pyramid']\n",
    "for i,album in enumerate(albums):\n",
    "    print i,album\n",
    "    \n",
    "fn = ['ian','stuart','david']\n",
    "ln = ['bairnson','elliott','paton']\n",
    "for i,j in zip(fn,ln):\n",
    "    print ('%s %s' % (i,j)).title()\n",
    "    \n",
    "#sum()\n",
    "a = [6,4,5]\n",
    "import operator\n",
    "print reduce(operator.add,a)\n",
    "print sum(a)\n",
    "print sum(a,5)\n",
    "#list(),tuple()\n",
    "aList = ['Tao',93,99,'time']\n",
    "aTuple = tuple(aList)\n",
    "print aList,aTuple\n",
    "aList == aTuple\n",
    "anotherList = list(aTuple)\n",
    "print aList==anotherList\n",
    "print aList is anotherList\n",
    "print [id(x) for x in aList,aTuple,anotherList]"
   ]
  },
  {
   "cell_type": "markdown",
   "metadata": {},
   "source": [
    "### 列表类型的内建函数"
   ]
  },
  {
   "cell_type": "code",
   "execution_count": 20,
   "metadata": {},
   "outputs": [
    {
     "name": "stdout",
     "output_type": "stream",
     "text": [
      "['compact disc', 45]\n",
      "['compact disc', 45, 'long playing record']\n",
      "False\n",
      "1\n",
      "[45, 'compact disc', 'long playing record']\n",
      "['long playing record', 'compact disc', 45]\n",
      "['long playing record', 'compact disc', 45, '24/96 digital audio disc', 'DVD Audio disc', 'Super Audio CD']\n"
     ]
    }
   ],
   "source": [
    "music_media = [45]\n",
    "music_media.insert(0,'compact disc') #insert an item in index-0\n",
    "print music_media\n",
    "music_media.append('long playing record')\n",
    "print music_media\n",
    "#in 判断元素是否存在列表中\n",
    "print 'cassette' in music_media\n",
    "#使用index方法判断元素是否存在列表中，如果存在,则返回该元素在列表中的索引,否则报错ValueError\n",
    "print music_media.index(45)\n",
    "music_media.sort()\n",
    "print music_media\n",
    "music_media.reverse()\n",
    "print music_media\n",
    "#extend方法\n",
    "new_media = ['24/96 digital audio disc','DVD Audio disc','Super Audio CD']\n",
    "music_media.extend(new_media)\n",
    "print music_media"
   ]
  },
  {
   "cell_type": "markdown",
   "metadata": {},
   "source": [
    "### 元组"
   ]
  },
  {
   "cell_type": "code",
   "execution_count": 23,
   "metadata": {},
   "outputs": [
    {
     "name": "stdout",
     "output_type": "stream",
     "text": [
      "(123, 'abc', 4.56, ['inner', 'tuple'], (7-9j))\n",
      "(None, 'something to see here')\n",
      "(None,)\n",
      "('b', 'a', 'r')\n",
      "('abc', 4.56, ['inner', 'tuple'])\n",
      "(123, 'abc', 4.56)\n",
      "tuple\n",
      "(123, 'abc', (7-9j))\n",
      "(12, 34.56, 'abc', 'xyz')\n"
     ]
    }
   ],
   "source": [
    "#创建元组并赋值\n",
    "aTuple = (123,'abc',4.56,['inner','tuple'],7-9j)\n",
    "anotherTuple = (None,'something to see here')\n",
    "print aTuple\n",
    "print anotherTuple\n",
    "emptiesPossibleTuple = (None,)\n",
    "print emptiesPossibleTuple\n",
    "print tuple('bar')\n",
    "#访问元组中的值\n",
    "print aTuple[1:4]\n",
    "print aTuple[:3]\n",
    "print aTuple[3][1]\n",
    "#更新元组\n",
    "aTuple = aTuple[0],aTuple[1],aTuple[-1]\n",
    "print aTuple\n",
    "tup1 = (12,34.56)\n",
    "tup2 = ('abc','xyz')\n",
    "tup3 = tup1+tup2\n",
    "print tup3\n",
    "#移除元组的元素以及元组本身;注意：单独删除元组的元素是不可能的，因为元组是不可变类型，所以单独删除元组的元素就是改变了元组\n",
    "del aTuple"
   ]
  },
  {
   "cell_type": "markdown",
   "metadata": {},
   "source": [
    "### 单元素元组"
   ]
  },
  {
   "cell_type": "code",
   "execution_count": 33,
   "metadata": {},
   "outputs": [
    {
     "name": "stdout",
     "output_type": "stream",
     "text": [
      "['abc']\n",
      "<type 'list'>\n",
      "abc\n",
      "<type 'str'>\n",
      "('abc',)\n",
      "<type 'tuple'>\n"
     ]
    }
   ],
   "source": [
    "print ['abc'] #单元素列表\n",
    "print type(['abc'])\n",
    "print ('abc') #试图通过这种方式创建单元素元组，失败\n",
    "print type(('abc'))\n",
    "print ('abc',) #通过增加一个逗号来创建单元素元组，成功\n",
    "print type(('abc',))"
   ]
  },
  {
   "cell_type": "code",
   "execution_count": 37,
   "metadata": {},
   "outputs": [
    {
     "name": "stdout",
     "output_type": "stream",
     "text": [
      "---------- 浅拷贝 ----------\n",
      "[139771832114784, 139771832249664, 139771832249520]\n",
      "139771953806960 139771832113992\n",
      "139771953806960 139771832113992\n",
      "139771953806960 139771832113992\n",
      "['joe', ['savings', 100.0]] ['jane', ['savings', 100.0]]\n",
      "['joe', ['savings', 50.0]] ['jane', ['savings', 50.0]]\n",
      "---------- 深拷贝 ----------\n",
      "[139771832524312, 139771832249808, 139771832249664]\n",
      "139771953806960 139771832426440\n",
      "139771953806960 139771832426440\n",
      "139771953806960 139771832250096\n",
      "['joe', ['savings', 100.0]] ['jane', ['savings', 100.0]]\n",
      "['joe', ['savings', 50.0]] ['jane', ['savings', 100.0]]\n",
      "---------- 元组替换列表 ----------\n",
      "[139771832524312, 139771832113992, 139771832524096]\n",
      "139771953806960 139771832426440\n",
      "139771953806960 139771840579272\n",
      "139771953806960 139771840579272\n",
      "['joe', ('savings', 100.0)] ['jane', ('savings', 100.0)]\n"
     ]
    }
   ],
   "source": [
    "#两种拷贝对象的方式，切片操作和工厂方法\n",
    "print '-'*10,'浅拷贝','-'*10\n",
    "person = ['name',['savings',100.0]]\n",
    "hubby = person[:] #切片拷贝方式\n",
    "wifey = list(person) #工厂方法拷贝方式\n",
    "print [id(x) for x in person,hubby,wifey]\n",
    "print id(person[0]),id(person[1])\n",
    "print id(hubby[0]),id(hubby[1])\n",
    "print id(wifey[0]),id(wifey[1])\n",
    "hubby[0] = 'joe'\n",
    "wifey[0] = 'jane'\n",
    "print hubby,wifey\n",
    "hubby[1][1] = 50.0\n",
    "print hubby,wifey #通过结果可以看出wifey[1][1]也变成了50.0，原因是我们仅仅做了浅拷贝。\n",
    "'''\n",
    "对一个对象进行浅拷贝其实是创建一个类型跟原对象一样，其内容是原来对象元素的引用。\n",
    "换句话说，这个拷贝的对象本身是新的，但是它的内容不是。浅拷贝是序列类型对象默认拷贝方式。\n",
    "我们可以通过这三种方式来进行浅拷贝：\n",
    "1.完全切片操作[:]\n",
    "2.利用工厂函数，比如list(),dict()等\n",
    "3.使用copy模块的copy函数\n",
    "**注意：对于不可变对象来说，进行浅拷贝时，被显示的拷贝，并新创建一个字符串对象。但是列表是可变对象，当进行内容修改时不会改变原来的引用关系**\n",
    "'''\n",
    "#让hubby，wifey之间的列表元素分开，则需要用到deepcopy函数\n",
    "print '-'*10,'深拷贝','-'*10\n",
    "person = ['name',['savings',100.0]]\n",
    "hubby = person[:]\n",
    "import copy\n",
    "wifey = copy.deepcopy(person)\n",
    "print [id(x) for x in person,hubby,wifey]\n",
    "print id(person[0]),id(person[1])\n",
    "print id(hubby[0]),id(hubby[1])\n",
    "print id(wifey[0]),id(wifey[1])\n",
    "hubby[0] = 'joe'\n",
    "wifey[0] = 'jane'\n",
    "print hubby,wifey\n",
    "hubby[1][1] = 50.00\n",
    "print hubby,wifey\n",
    "\n",
    "'''\n",
    "**关于拷贝操作的警告**：\n",
    "第一，非容器类型（比如数字、字符串和其他原子类型的对象，像代码、类型和xrange对象等）没有拷贝一说。浅拷贝是用完全切片操作来完成的\n",
    "第二，如果元组变量只包含原子类型对象，对它的深拷贝将不会进行。而且不合理，因为不行对元组的元素进行修改！！\n",
    "'''\n",
    "print '-'*10,'元组替换列表','-'*10\n",
    "newperson = ['name',('savings',100.0)]\n",
    "hubby = newperson[:]\n",
    "wifey = copy.deepcopy(newperson)\n",
    "print [id(x) for x in person,hubby,wifey]\n",
    "print id(person[0]),id(person[1])\n",
    "print id(hubby[0]),id(hubby[1])\n",
    "print id(wifey[0]),id(wifey[1])\n",
    "hubby[0] = 'joe'\n",
    "wifey[0] = 'jane'\n",
    "print hubby,wifey"
   ]
  },
  {
   "cell_type": "code",
   "execution_count": null,
   "metadata": {
    "collapsed": true
   },
   "outputs": [],
   "source": []
  }
 ],
 "metadata": {
  "kernelspec": {
   "display_name": "Python 2",
   "language": "python",
   "name": "python2"
  },
  "language_info": {
   "codemirror_mode": {
    "name": "ipython",
    "version": 2
   },
   "file_extension": ".py",
   "mimetype": "text/x-python",
   "name": "python",
   "nbconvert_exporter": "python",
   "pygments_lexer": "ipython2",
   "version": "2.7.13"
  }
 },
 "nbformat": 4,
 "nbformat_minor": 2
}
