{
 "cells": [
  {
   "cell_type": "markdown",
   "metadata": {},
   "source": [
    "### 字典"
   ]
  },
  {
   "cell_type": "code",
   "execution_count": 4,
   "metadata": {},
   "outputs": [
    {
     "name": "stdout",
     "output_type": "stream",
     "text": [
      "{} {'name': 'earth', 'port': 80}\n",
      "{'y': 2, 'x': 1}\n",
      "{'y': -1, 'x': -1}\n",
      "{'foo': None, 'bar': None}\n",
      "key=name, value=earth\n",
      "key=port, value=80\n",
      "key=name, value=earth\n",
      "key=port, value=80\n",
      "earth\n",
      "False\n",
      "{(1, 2): (3, 4)}\n",
      "{'arch': 'sunos5', 'port': 6969}\n",
      "6969\n",
      "{'arch': 'sunos5'}\n",
      "{}\n"
     ]
    }
   ],
   "source": [
    "#创建字典和字典赋值\n",
    "dict1 = {}\n",
    "dict2 = {'name':'earth','port':80}\n",
    "print dict1,dict2\n",
    "fdict = dict((['x',1],['y',2]))\n",
    "print fdict\n",
    "ddict = {}.fromkeys(('x','y'),-1)\n",
    "print ddict\n",
    "edict = {}.fromkeys(('foo','bar')) #没有给默认值为None\n",
    "print edict\n",
    "#访问字典中的值\n",
    "dict2 = {'name':'earth','port':80}\n",
    "for key in dict2.keys():\n",
    "    print 'key=%s, value=%s' % (key, dict2[key])\n",
    "    \n",
    "for key in dict2: #不必使用keys()方法来获取键值列表\n",
    "    print 'key=%s, value=%s' % (key, dict2[key])\n",
    "    \n",
    "print dict2['name']\n",
    "print 'server' in dict2 #用于判断字典中是否有某个键\n",
    "'''\n",
    "字典中的键只能使用数字或者字符串,元组来表示，而不能使用列表或者字典\n",
    "'''\n",
    "mytest = {(1,2):(3,4)}\n",
    "print mytest\n",
    "#字典更新\n",
    "dict2['name'] = 'venus'  #更新已有条目\n",
    "dict2['port'] = 6969     #更新已有条目\n",
    "dict2['arch'] = 'sunos5' #增加新条目\n",
    "#删除字典元素和字典本身\n",
    "del dict2['name']\n",
    "print dict2\n",
    "print dict2.pop('port') #返回键为port的值，然后删除这个条目\n",
    "print dict2\n",
    "dict2.clear() #删除dict2中所有的条目\n",
    "print dict2"
   ]
  },
  {
   "cell_type": "markdown",
   "metadata": {},
   "source": [
    "### 映射类型操作符"
   ]
  },
  {
   "cell_type": "code",
   "execution_count": 5,
   "metadata": {},
   "outputs": [
    {
     "name": "stdout",
     "output_type": "stream",
     "text": [
      "True\n",
      "123\n",
      "True\n"
     ]
    }
   ],
   "source": [
    "dict4 = {'abc':123}\n",
    "dict5 = {'abc':456}\n",
    "print dict4 < dict5\n",
    "#字典键查找符\n",
    "print dict4['abc']\n",
    "#成员关系操作(in,not in)\n",
    "print 'abc' in dict4 #判断某个键是否存在于指定字典中"
   ]
  },
  {
   "cell_type": "markdown",
   "metadata": {
    "collapsed": true
   },
   "source": [
    "### 字典工厂函数"
   ]
  },
  {
   "cell_type": "code",
   "execution_count": 8,
   "metadata": {},
   "outputs": [
    {
     "name": "stdout",
     "output_type": "stream",
     "text": [
      "{'y': 2, 'x': 1}\n",
      "{'y': 2, 'x': 1}\n",
      "{'y': 2, 'x': 1}\n",
      "{}\n",
      "{'y': 2, 'x': 1}\n",
      "140222125378368   140222125377808\n",
      "30957960   30957960\n",
      "{'y': 2, 'x': 3}   {'y': 2, 'x': 1}\n",
      "30957912   30957960\n",
      "{'y': 2, 'x': 1}\n",
      "140222125378368   140222124599008\n"
     ]
    }
   ],
   "source": [
    "#可迭代对象\n",
    "print dict(zip(('x','y'),(1,2)))\n",
    "print dict([['x',1],['y',2]])\n",
    "print dict([(('xy')[i-1],i) for i in range(1,3)])\n",
    "#参数为空\n",
    "print dict()\n",
    "#参数是字典、关键字参数\n",
    "dict1 = {'x':1,'y':2}\n",
    "dict2 = dict(dict1)\n",
    "print dict2\n",
    "print id(dict1),' ',id(dict2)\n",
    "print id(dict1['x']),' ',id(dict2['x'])\n",
    "dict1['x'] = 3\n",
    "print dict1,' ',dict2\n",
    "print id(dict1['x']),' ',id(dict2['x'])\n",
    "print dict(x=1,y=2)\n",
    "dict3 = dict1.copy()\n",
    "print id(dict1),' ',id(dict3)"
   ]
  },
  {
   "cell_type": "code",
   "execution_count": 9,
   "metadata": {},
   "outputs": [
    {
     "name": "stdout",
     "output_type": "stream",
     "text": [
      "dict2 key x has value 1\n",
      "dict2 key y has value 2\n"
     ]
    }
   ],
   "source": [
    "for eachKey in sorted(dict2):\n",
    "    print 'dict2 key', eachKey, 'has value', dict2[eachKey]"
   ]
  },
  {
   "cell_type": "markdown",
   "metadata": {},
   "source": [
    "### 模拟登录数据系统-字典"
   ]
  },
  {
   "cell_type": "code",
   "execution_count": 10,
   "metadata": {},
   "outputs": [
    {
     "name": "stdout",
     "output_type": "stream",
     "text": [
      "\n",
      "    (N)ew User Login\n",
      "    (E)xisting User Login\n",
      "    (Q)uit\n",
      "    Enter choice:\n",
      "    n\n",
      "\n",
      "You picked: [n]\n",
      "login desired: lin\n",
      "passwd: 123456\n",
      "\n",
      "    (N)ew User Login\n",
      "    (E)xisting User Login\n",
      "    (Q)uit\n",
      "    Enter choice:\n",
      "    n\n",
      "\n",
      "You picked: [n]\n",
      "login desired: lin\n",
      "name token, try another: abc\n",
      "passwd: ooo\n",
      "\n",
      "    (N)ew User Login\n",
      "    (E)xisting User Login\n",
      "    (Q)uit\n",
      "    Enter choice:\n",
      "    q\n",
      "\n",
      "You picked: [q]\n"
     ]
    }
   ],
   "source": [
    "db = {}\n",
    "def newuser():\n",
    "    prompt = 'login desired: '\n",
    "    while True:\n",
    "        name = raw_input(prompt)\n",
    "        if name in db:\n",
    "            prompt = 'name token, try another: '\n",
    "            continue\n",
    "        else:\n",
    "            break\n",
    "    pwd = raw_input('passwd: ')\n",
    "    db[name] = pwd\n",
    "    \n",
    "def olduser():\n",
    "    name = raw_input('login: ')\n",
    "    pwd = raw_input('passwd: ')\n",
    "    passwd = db.get(name)\n",
    "    if passwd == pwd:\n",
    "        print 'welcome back', name\n",
    "    else:\n",
    "        print 'login incorrect'\n",
    "        \n",
    "def showmenu():\n",
    "    prompt = \"\"\"\n",
    "    (N)ew User Login\n",
    "    (E)xisting User Login\n",
    "    (Q)uit\n",
    "    Enter choice:\n",
    "    \"\"\"\n",
    "    \n",
    "    done = False\n",
    "    while not done:\n",
    "        chosen = False\n",
    "        while not chosen:\n",
    "            try:\n",
    "                choice = raw_input(prompt).strip()[0].lower()\n",
    "            except (EOFError, KeyboardInterrupt):\n",
    "                choice = 'q'\n",
    "            print '\\nYou picked: [%s]' % choice\n",
    "            if choice not in 'neq':\n",
    "                print 'invalid option, try again'\n",
    "            else:\n",
    "                chosen = True\n",
    "        \n",
    "        if choice == 'q':done=True\n",
    "        if choice == 'n':newuser()\n",
    "        if choice == 'e':olduser()\n",
    "            \n",
    "if __name__=='__main__':\n",
    "    showmenu()"
   ]
  },
  {
   "cell_type": "code",
   "execution_count": 11,
   "metadata": {},
   "outputs": [
    {
     "name": "stdout",
     "output_type": "stream",
     "text": [
      "set(['c', 'e', 'h', 'o', 'p', 's'])\n",
      "frozenset(['b', 'h', 'k', 'o', 'p', 's'])\n",
      "<type 'set'>\n",
      "<type 'frozenset'>\n",
      "False\n",
      "set(['c', 'e', 'h', 'o', 'p', 's', 'z'])\n",
      "set(['c', 'e', 'i', 'h', 'o', 'p', 's', 'y', 'z'])\n",
      "set(['c', 'e', 'i', 'h', 'o', 'p', 's', 'y'])\n",
      "set(['c', 'e', 'h', 'o', 's'])\n"
     ]
    }
   ],
   "source": [
    "#集合只能通过工厂函数来创建\n",
    "s = set('cheeseshop')\n",
    "t = frozenset('bookshop')\n",
    "print s\n",
    "print t\n",
    "print type(s)\n",
    "print type(t)\n",
    "#如何访问集合中的值\n",
    "print 'k' in s\n",
    "#更新集合\n",
    "s.add('z')\n",
    "print s\n",
    "s.update('pypi')\n",
    "print s\n",
    "s.remove('z')\n",
    "print s\n",
    "s -= set('pypi')\n",
    "print s\n",
    "#t.add('z') //对不可变集合进行修改引发异常AttributeError\n",
    "del s"
   ]
  },
  {
   "cell_type": "code",
   "execution_count": 12,
   "metadata": {},
   "outputs": [
    {
     "name": "stdout",
     "output_type": "stream",
     "text": [
      "140222127717632\n",
      "140222127717632\n"
     ]
    }
   ],
   "source": [
    "a = set('abcd')\n",
    "print id(a)\n",
    "a.add('ef')\n",
    "print id(a)"
   ]
  },
  {
   "cell_type": "markdown",
   "metadata": {},
   "source": [
    "### 集合类型操作符(仅适用于可变集合)"
   ]
  },
  {
   "cell_type": "code",
   "execution_count": 13,
   "metadata": {},
   "outputs": [
    {
     "name": "stdout",
     "output_type": "stream",
     "text": [
      "set(['c', 'e', 'i', 'h', 'o', 'p', 's', 'y'])\n",
      "set(['h', 's', 'o', 'p'])\n",
      "set(['c', 'e'])\n",
      "set(['c', 'b', 'e', 'k'])\n"
     ]
    }
   ],
   "source": [
    "#update(|=)\n",
    "s = set('cheeseshop')\n",
    "u = frozenset(s)\n",
    "s |= set('pypi')\n",
    "print s\n",
    "#Retention/Intersection Update(&=)\n",
    "s = set(u)\n",
    "s &= set('shop')\n",
    "print s\n",
    "#difference update(-=)\n",
    "s = set(u)\n",
    "s -= set('shop')\n",
    "print s\n",
    "#symmetric difference update(^=)\n",
    "s = set(u)\n",
    "t = frozenset('bookshop')\n",
    "s ^= t\n",
    "print s"
   ]
  },
  {
   "cell_type": "code",
   "execution_count": null,
   "metadata": {
    "collapsed": true
   },
   "outputs": [],
   "source": []
  }
 ],
 "metadata": {
  "kernelspec": {
   "display_name": "Python 2",
   "language": "python",
   "name": "python2"
  },
  "language_info": {
   "codemirror_mode": {
    "name": "ipython",
    "version": 2
   },
   "file_extension": ".py",
   "mimetype": "text/x-python",
   "name": "python",
   "nbconvert_exporter": "python",
   "pygments_lexer": "ipython2",
   "version": "2.7.13"
  }
 },
 "nbformat": 4,
 "nbformat_minor": 2
}
