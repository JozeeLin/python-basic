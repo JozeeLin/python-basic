{
 "cells": [
  {
   "cell_type": "code",
   "execution_count": 1,
   "metadata": {
    "collapsed": true
   },
   "outputs": [],
   "source": [
    "def foo():\n",
    "    return ['zyx',10000,23e4]"
   ]
  },
  {
   "cell_type": "code",
   "execution_count": 2,
   "metadata": {
    "collapsed": true
   },
   "outputs": [],
   "source": [
    "a,b,c = foo()"
   ]
  },
  {
   "cell_type": "code",
   "execution_count": 3,
   "metadata": {},
   "outputs": [
    {
     "name": "stdout",
     "output_type": "stream",
     "text": [
      "zyx 10000 230000.0\n"
     ]
    }
   ],
   "source": [
    "print a,b,c"
   ]
  },
  {
   "cell_type": "code",
   "execution_count": 4,
   "metadata": {},
   "outputs": [
    {
     "name": "stdout",
     "output_type": "stream",
     "text": [
      "zyx\n"
     ]
    }
   ],
   "source": [
    "print a"
   ]
  },
  {
   "cell_type": "code",
   "execution_count": 5,
   "metadata": {},
   "outputs": [
    {
     "name": "stdout",
     "output_type": "stream",
     "text": [
      "10000\n"
     ]
    }
   ],
   "source": [
    "print b"
   ]
  },
  {
   "cell_type": "code",
   "execution_count": 6,
   "metadata": {},
   "outputs": [
    {
     "name": "stdout",
     "output_type": "stream",
     "text": [
      "230000.0\n"
     ]
    }
   ],
   "source": [
    "print c"
   ]
  },
  {
   "cell_type": "markdown",
   "metadata": {},
   "source": [
    "## 默认参数"
   ]
  },
  {
   "cell_type": "code",
   "execution_count": 7,
   "metadata": {
    "collapsed": true
   },
   "outputs": [],
   "source": [
    "def net_conn(host,port):\n",
    "    if host:\n",
    "        print host,\n",
    "    if port:\n",
    "        print port"
   ]
  },
  {
   "cell_type": "code",
   "execution_count": 8,
   "metadata": {},
   "outputs": [
    {
     "ename": "TypeError",
     "evalue": "net_conn() takes exactly 2 arguments (1 given)",
     "output_type": "error",
     "traceback": [
      "\u001b[0;31m---------------------------------------------------------------------------\u001b[0m",
      "\u001b[0;31mTypeError\u001b[0m                                 Traceback (most recent call last)",
      "\u001b[0;32m<ipython-input-8-b496b005e289>\u001b[0m in \u001b[0;36m<module>\u001b[0;34m()\u001b[0m\n\u001b[0;32m----> 1\u001b[0;31m \u001b[0mnet_conn\u001b[0m\u001b[0;34m(\u001b[0m\u001b[0mhost\u001b[0m\u001b[0;34m=\u001b[0m\u001b[0;34m'localhost'\u001b[0m\u001b[0;34m)\u001b[0m\u001b[0;34m\u001b[0m\u001b[0m\n\u001b[0m",
      "\u001b[0;31mTypeError\u001b[0m: net_conn() takes exactly 2 arguments (1 given)"
     ]
    }
   ],
   "source": [
    "net_conn(host='localhost')"
   ]
  },
  {
   "cell_type": "markdown",
   "metadata": {},
   "source": [
    "## 参数组"
   ]
  },
  {
   "cell_type": "code",
   "execution_count": 9,
   "metadata": {},
   "outputs": [
    {
     "name": "stdout",
     "output_type": "stream",
     "text": [
      "5 - 3=2\n",
      "correct\n",
      "Again? [y]y\n",
      "10 - 5=5\n",
      "correct\n",
      "Again? [y]y\n",
      "6 + 1=7\n",
      "correct\n",
      "Again? [y]n\n"
     ]
    }
   ],
   "source": [
    "from operator import add,sub\n",
    "from random import randint,choice\n",
    "\n",
    "ops = {'+':add,'-':sub}\n",
    "MAXTRIES = 2\n",
    "\n",
    "def droprob():\n",
    "    op = choice('+-')\n",
    "    nums = [randint(1,10) for i in range(2)]\n",
    "    nums.sort(reverse=True)\n",
    "    ans = ops[op](*nums) #使用元组/列表来作为参数\n",
    "    pr='%d %s %d=' % (nums[0],op,nums[1])\n",
    "    oops = 0\n",
    "    while True:\n",
    "        try:\n",
    "            if int(raw_input(pr)) == ans:\n",
    "                print 'correct'\n",
    "                break\n",
    "            if oops==MAXTRIES:\n",
    "                print 'answer\\n%s%d' % (pr,ans)\n",
    "            else:\n",
    "                print 'incorrect...try again'\n",
    "                oops += 1\n",
    "        except (KeyboardInterrupt, EOFError,ValueError):\n",
    "            print 'invalid input...try again'\n",
    "            \n",
    "def main():\n",
    "    while True:\n",
    "        droprob()\n",
    "        try:\n",
    "            opt = raw_input('Again? [y]').lower()\n",
    "            if opt and opt[0]=='n':\n",
    "                break\n",
    "        except (KeyboardInterrupt,EOFError):\n",
    "            break\n",
    "            \n",
    "if __name__ == '__main__':\n",
    "    main()"
   ]
  },
  {
   "cell_type": "markdown",
   "metadata": {},
   "source": [
    "## 前向引用"
   ]
  },
  {
   "cell_type": "code",
   "execution_count": 24,
   "metadata": {},
   "outputs": [
    {
     "name": "stdout",
     "output_type": "stream",
     "text": [
      "in foo()\n"
     ]
    },
    {
     "ename": "NameError",
     "evalue": "global name 'bar' is not defined",
     "output_type": "error",
     "traceback": [
      "\u001b[0;31m---------------------------------------------------------------------------\u001b[0m",
      "\u001b[0;31mNameError\u001b[0m                                 Traceback (most recent call last)",
      "\u001b[0;32m<ipython-input-24-a08ffc12521c>\u001b[0m in \u001b[0;36m<module>\u001b[0;34m()\u001b[0m\n\u001b[1;32m      3\u001b[0m     \u001b[0mbar\u001b[0m\u001b[0;34m(\u001b[0m\u001b[0;34m)\u001b[0m\u001b[0;34m\u001b[0m\u001b[0m\n\u001b[1;32m      4\u001b[0m \u001b[0;34m\u001b[0m\u001b[0m\n\u001b[0;32m----> 5\u001b[0;31m \u001b[0mfoo\u001b[0m\u001b[0;34m(\u001b[0m\u001b[0;34m)\u001b[0m\u001b[0;34m\u001b[0m\u001b[0m\n\u001b[0m\u001b[1;32m      6\u001b[0m \u001b[0;34m\u001b[0m\u001b[0m\n\u001b[1;32m      7\u001b[0m \u001b[0;32mdef\u001b[0m \u001b[0mbar\u001b[0m\u001b[0;34m(\u001b[0m\u001b[0;34m)\u001b[0m\u001b[0;34m:\u001b[0m\u001b[0;34m\u001b[0m\u001b[0m\n",
      "\u001b[0;32m<ipython-input-24-a08ffc12521c>\u001b[0m in \u001b[0;36mfoo\u001b[0;34m()\u001b[0m\n\u001b[1;32m      1\u001b[0m \u001b[0;32mdef\u001b[0m \u001b[0mfoo\u001b[0m\u001b[0;34m(\u001b[0m\u001b[0;34m)\u001b[0m\u001b[0;34m:\u001b[0m\u001b[0;34m\u001b[0m\u001b[0m\n\u001b[1;32m      2\u001b[0m     \u001b[0;32mprint\u001b[0m \u001b[0;34m'in foo()'\u001b[0m\u001b[0;34m\u001b[0m\u001b[0m\n\u001b[0;32m----> 3\u001b[0;31m     \u001b[0mbar\u001b[0m\u001b[0;34m(\u001b[0m\u001b[0;34m)\u001b[0m\u001b[0;34m\u001b[0m\u001b[0m\n\u001b[0m\u001b[1;32m      4\u001b[0m \u001b[0;34m\u001b[0m\u001b[0m\n\u001b[1;32m      5\u001b[0m \u001b[0mfoo\u001b[0m\u001b[0;34m(\u001b[0m\u001b[0;34m)\u001b[0m\u001b[0;34m\u001b[0m\u001b[0m\n",
      "\u001b[0;31mNameError\u001b[0m: global name 'bar' is not defined"
     ]
    }
   ],
   "source": [
    "def foo():\n",
    "    print 'in foo()'\n",
    "    bar()\n",
    "    \n",
    "foo()\n",
    "\n",
    "def bar():\n",
    "    print 'in bar()'"
   ]
  },
  {
   "cell_type": "code",
   "execution_count": 25,
   "metadata": {},
   "outputs": [
    {
     "name": "stdout",
     "output_type": "stream",
     "text": [
      "in foo()\n",
      "in bar()\n"
     ]
    }
   ],
   "source": [
    "def foo():\n",
    "    print 'in foo()'\n",
    "    bar()\n",
    "    \n",
    "def bar():\n",
    "    print 'in bar()'\n",
    "    \n",
    "foo()"
   ]
  },
  {
   "cell_type": "markdown",
   "metadata": {},
   "source": [
    "## 函数属性"
   ]
  },
  {
   "cell_type": "code",
   "execution_count": 26,
   "metadata": {
    "collapsed": true
   },
   "outputs": [],
   "source": [
    "def bar():\n",
    "    pass\n",
    "\n",
    "bar.__doc__='oops,forgot the doc str above'\n",
    "bar.version=0.1"
   ]
  },
  {
   "cell_type": "code",
   "execution_count": 27,
   "metadata": {},
   "outputs": [
    {
     "name": "stdout",
     "output_type": "stream",
     "text": [
      "Help on function bar in module __main__:\n",
      "\n",
      "bar()\n",
      "    oops,forgot the doc str above\n",
      "\n"
     ]
    }
   ],
   "source": [
    "help(bar)"
   ]
  },
  {
   "cell_type": "markdown",
   "metadata": {},
   "source": [
    "## 内部/内嵌函数"
   ]
  },
  {
   "cell_type": "code",
   "execution_count": 32,
   "metadata": {},
   "outputs": [
    {
     "name": "stdout",
     "output_type": "stream",
     "text": [
      "foo() called\n",
      "bar() called\n"
     ]
    },
    {
     "ename": "NameError",
     "evalue": "name 'bar1' is not defined",
     "output_type": "error",
     "traceback": [
      "\u001b[0;31m---------------------------------------------------------------------------\u001b[0m",
      "\u001b[0;31mNameError\u001b[0m                                 Traceback (most recent call last)",
      "\u001b[0;32m<ipython-input-32-4bbc695ce2de>\u001b[0m in \u001b[0;36m<module>\u001b[0;34m()\u001b[0m\n\u001b[1;32m      5\u001b[0m     \u001b[0mbar1\u001b[0m\u001b[0;34m(\u001b[0m\u001b[0;34m)\u001b[0m\u001b[0;34m\u001b[0m\u001b[0m\n\u001b[1;32m      6\u001b[0m \u001b[0mmyfoo\u001b[0m \u001b[0;34m=\u001b[0m \u001b[0mfoo\u001b[0m\u001b[0;34m(\u001b[0m\u001b[0;34m)\u001b[0m\u001b[0;34m\u001b[0m\u001b[0m\n\u001b[0;32m----> 7\u001b[0;31m \u001b[0mbar1\u001b[0m\u001b[0;34m(\u001b[0m\u001b[0;34m)\u001b[0m\u001b[0;34m\u001b[0m\u001b[0m\n\u001b[0m",
      "\u001b[0;31mNameError\u001b[0m: name 'bar1' is not defined"
     ]
    }
   ],
   "source": [
    "def foo():\n",
    "    def bar1():\n",
    "        print 'bar() called'\n",
    "    print 'foo() called'\n",
    "    bar1()\n",
    "myfoo = foo()\n",
    "bar1()"
   ]
  },
  {
   "cell_type": "markdown",
   "metadata": {},
   "source": [
    "## 装饰器"
   ]
  },
  {
   "cell_type": "code",
   "execution_count": 51,
   "metadata": {},
   "outputs": [
    {
     "name": "stdout",
     "output_type": "stream",
     "text": [
      "[Wed May 23 16:02:33 2018] foo1() called\n",
      "[Wed May 23 16:02:38 2018] foo1() called\n",
      "[Wed May 23 16:02:39 2018] foo1() called\n"
     ]
    }
   ],
   "source": [
    "from time import ctime,sleep\n",
    "def tsfunc(func):\n",
    "    def wrappedFunc():\n",
    "        print '[%s] %s() called' % (ctime(),func.__name__)\n",
    "        return func()\n",
    "    return wrappedFunc\n",
    "\n",
    "@tsfunc\n",
    "def foo1():\n",
    "    pass\n",
    "foo1()\n",
    "\n",
    "sleep(4)\n",
    "for i in range(2):\n",
    "    sleep(1)\n",
    "    foo1()"
   ]
  },
  {
   "cell_type": "markdown",
   "metadata": {},
   "source": [
    "## 传递函数"
   ]
  },
  {
   "cell_type": "code",
   "execution_count": 54,
   "metadata": {},
   "outputs": [
    {
     "name": "stdout",
     "output_type": "stream",
     "text": [
      "[123, 45, -620000000, 9999999999]\n",
      "[123.0, 45.67, -620000000.0, 9999999999.0]\n",
      "[123L, 45L, -620000000L, 9999999999L]\n"
     ]
    }
   ],
   "source": [
    "def convert(func,seq):\n",
    "    'conv. sequence of numbers to same type'\n",
    "    return [func (eachNum) for eachNum in seq]\n",
    "\n",
    "myseq = (123,45.67,-6.2e8,9999999999L)\n",
    "print convert(int,myseq)\n",
    "print convert(float,myseq)\n",
    "print convert(long,myseq)"
   ]
  },
  {
   "cell_type": "markdown",
   "metadata": {
    "collapsed": true
   },
   "source": [
    "## 默认参数举例"
   ]
  },
  {
   "cell_type": "code",
   "execution_count": 7,
   "metadata": {},
   "outputs": [
    {
     "name": "stdout",
     "output_type": "stream",
     "text": [
      "</html>\n",
      "<html>\r\n",
      "\n"
     ]
    }
   ],
   "source": [
    "from urllib import urlretrieve\n",
    "\n",
    "def firstNonBlank(lines):\n",
    "    for eachLine in lines:\n",
    "        if not eachLine.strip():\n",
    "            continue\n",
    "    else:\n",
    "        return eachLine\n",
    "    \n",
    "def firstLast(webpage):\n",
    "    f=open(webpage)\n",
    "    lines=f.readlines()\n",
    "    f.close()\n",
    "    print firstNonBlank(lines)\n",
    "    lines.reverse()\n",
    "    print firstNonBlank(lines)\n",
    "    \n",
    "def download(url='https://www.baidu.com',process=firstLast):\n",
    "    try:\n",
    "        retval = urlretrieve(url)[0]\n",
    "    except IOError:\n",
    "        retval = None\n",
    "    if retval: #do some processing\n",
    "        process(retval)\n",
    "    else:\n",
    "        print 'fail'\n",
    "        \n",
    "download()"
   ]
  },
  {
   "cell_type": "code",
   "execution_count": 9,
   "metadata": {},
   "outputs": [
    {
     "name": "stdout",
     "output_type": "stream",
     "text": [
      "11 22 33 2\n",
      "11 22 1 2\n",
      "11 22 33 44\n"
     ]
    }
   ],
   "source": [
    "def hello(a,b,x=1,y=2):\n",
    "    print a,b,x,y\n",
    "    \n",
    "hello(11,22,33)\n",
    "hello(11,22)\n",
    "hello(11,22,33,44)"
   ]
  },
  {
   "cell_type": "markdown",
   "metadata": {},
   "source": [
    "## 非关键字可变长参数"
   ]
  },
  {
   "cell_type": "code",
   "execution_count": 12,
   "metadata": {},
   "outputs": [
    {
     "name": "stdout",
     "output_type": "stream",
     "text": [
      "formal arg 1: abc\n",
      "formal arg 2: abc\n",
      "formal arg 1: 23\n",
      "formal arg 2: 23\n",
      "formal arg 1: abc\n",
      "formal arg 2: abc\n",
      "another arg: xyz\n",
      "another arg: 456.789\n"
     ]
    }
   ],
   "source": [
    "def tupleVarArgs(arg1, arg2='defaultB',*theRest):\n",
    "    'display regular args and non-keyword variable args'\n",
    "    print 'formal arg 1:',arg1\n",
    "    print 'formal arg 2:',arg1\n",
    "    \n",
    "    for eachXtrArg in theRest:\n",
    "        print 'another arg:', eachXtrArg\n",
    "        \n",
    "tupleVarArgs('abc')\n",
    "tupleVarArgs(23,4.56)\n",
    "tupleVarArgs('abc',123,'xyz',456.789)"
   ]
  },
  {
   "cell_type": "markdown",
   "metadata": {},
   "source": [
    "## 关键字可变长参数"
   ]
  },
  {
   "cell_type": "code",
   "execution_count": 16,
   "metadata": {},
   "outputs": [
    {
     "name": "stdout",
     "output_type": "stream",
     "text": [
      "formal arg1: 1220\n",
      "formal arg2: 730.0\n",
      "Xtra arg c: grail\n",
      "----------------------------------------\n",
      "formal arg1: mystery\n",
      "formal arg2: tales\n",
      "Xtra arg c: 123\n",
      "Xtra arg d: poe\n",
      "----------------------------------------\n",
      "formal arg1: one\n",
      "formal arg2: defaultB\n",
      "Xtra arg men: ('freud', 'gaudi')\n",
      "Xtra arg e: zoo\n",
      "Xtra arg d: 10\n",
      "----------------------------------------\n",
      "formal arg1: mystery\n",
      "formal arg2: tales\n",
      "Xtra arg c: 123\n",
      "Xtra arg d: poe\n"
     ]
    }
   ],
   "source": [
    "def dictVarArgs(arg1,arg2='defaultB',**theRest):\n",
    "    'display 2 regular args and keyword variable args'\n",
    "    print 'formal arg1:',arg1\n",
    "    print 'formal arg2:',arg2\n",
    "    for eachXtrArg in theRest.keys():\n",
    "        print 'Xtra arg %s: %s' % (eachXtrArg,str(theRest[eachXtrArg]))\n",
    "        \n",
    "dictVarArgs(1220,730.0,c='grail')\n",
    "print '-'*40\n",
    "dictVarArgs(arg2='tales',c=123,d='poe',arg1='mystery')\n",
    "print '-'*40\n",
    "dictVarArgs('one',d=10,e='zoo',men=('freud','gaudi'))\n",
    "print '-'*40\n",
    "dictVarArgs(c=123,d='poe',arg1='mystery',arg2='tales')"
   ]
  },
  {
   "cell_type": "code",
   "execution_count": 17,
   "metadata": {},
   "outputs": [
    {
     "name": "stdout",
     "output_type": "stream",
     "text": [
      "arg1 is: wolf\n",
      "arg2 is: 3\n",
      "additional non-keyword arg: projects\n",
      "additional keyword arg \"gamble\" : 96\n",
      "additional keyword arg \"freud\" : 90\n"
     ]
    }
   ],
   "source": [
    "#非关键字变长参数和关键字变长参数公用\n",
    "def newfoo(arg1,arg2,*nkw,**kw):\n",
    "    'display regular args and all variable args'\n",
    "    print 'arg1 is:',arg1\n",
    "    print 'arg2 is:',arg2\n",
    "    for eachNKW in nkw:\n",
    "        print 'additional non-keyword arg:',eachNKW\n",
    "    for eachKW in kw.keys():\n",
    "        print 'additional keyword arg \"%s\" : %s' % (eachKW,kw[eachKW])\n",
    "        \n",
    "newfoo('wolf',3,'projects',freud=90,gamble=96)"
   ]
  },
  {
   "cell_type": "code",
   "execution_count": 19,
   "metadata": {},
   "outputs": [
    {
     "name": "stdout",
     "output_type": "stream",
     "text": [
      "arg1 is: 10\n",
      "arg2 is: 20\n",
      "additional non-keyword arg: 30\n",
      "additional non-keyword arg: 40\n",
      "additional keyword arg \"foo\" : 50\n",
      "additional keyword arg \"bar\" : 60\n",
      "----------------------------------------\n",
      "arg1 is: 2\n",
      "arg2 is: 4\n",
      "additional non-keyword arg: 6\n",
      "additional non-keyword arg: 8\n",
      "additional keyword arg \"foo\" : 10\n",
      "additional keyword arg \"bar\" : 12\n",
      "----------------------------------------\n",
      "arg1 is: 1\n",
      "arg2 is: 2\n",
      "additional non-keyword arg: 3\n",
      "additional non-keyword arg: 6\n",
      "additional non-keyword arg: 7\n",
      "additional non-keyword arg: 8\n",
      "additional keyword arg \"y\" : 5\n",
      "additional keyword arg \"x\" : 4\n",
      "additional keyword arg \"z\" : 9\n"
     ]
    }
   ],
   "source": [
    "#newfoo函数的多种风格调用方式\n",
    "newfoo(10,20,30,40,foo=50,bar=60)\n",
    "print '-'*40\n",
    "newfoo(2,4,*(6,8),**{'foo':10,'bar':12})\n",
    "print '-'*40\n",
    "aTuple = (6,7,8)\n",
    "aDict = {'z':9}\n",
    "newfoo(1,2,3,x=4,y=5,*aTuple,**aDict)"
   ]
  },
  {
   "cell_type": "markdown",
   "metadata": {},
   "source": [
    "## 函数式编程"
   ]
  },
  {
   "cell_type": "code",
   "execution_count": 24,
   "metadata": {},
   "outputs": [
    {
     "name": "stdout",
     "output_type": "stream",
     "text": [
      "--------------------\n",
      "int(eachVal)= 1234\n",
      "int(eachVal)= 12\n",
      "int(eachVal)= 1234\n",
      "int(eachVal)= FAILED: invalid literal for int() with base 10: '12.34'\n",
      "--------------------\n",
      "long(eachVal)= 1234\n",
      "long(eachVal)= 12\n",
      "long(eachVal)= 1234\n",
      "long(eachVal)= FAILED: invalid literal for long() with base 10: '12.34'\n",
      "--------------------\n",
      "float(eachVal)= 1234.0\n",
      "float(eachVal)= 12.34\n",
      "float(eachVal)= 1234.0\n",
      "float(eachVal)= 12.34\n"
     ]
    }
   ],
   "source": [
    "def testit(func, *nkwargs,**kwargs):\n",
    "    try:\n",
    "        retval = func(*nkwargs,**kwargs)\n",
    "        result = (True,retval)\n",
    "    except Exception,diag:\n",
    "        result = (False,str(diag))\n",
    "    return result\n",
    "\n",
    "def test():\n",
    "    funcs = (int,long,float)\n",
    "    vals = (1234,12.34,'1234','12.34')\n",
    "    for eachFunc in funcs:\n",
    "        print '-'*20\n",
    "        for eachVal in vals:\n",
    "            retval = testit(eachFunc,eachVal)\n",
    "            if retval[0]:\n",
    "                print '%s(%s)=' % (eachFunc.__name__,'eachVal'),retval[1]\n",
    "            else:\n",
    "                print '%s(%s)= FAILED:' % (eachFunc.__name__,'eachVal'),retval[1]\n",
    "                \n",
    "test()"
   ]
  },
  {
   "cell_type": "markdown",
   "metadata": {},
   "source": [
    "## 函数式编程相关的内建函数"
   ]
  },
  {
   "cell_type": "code",
   "execution_count": 3,
   "metadata": {},
   "outputs": [
    {
     "name": "stdout",
     "output_type": "stream",
     "text": [
      "[51, 83, 99, 53, 9, 57, 81]\n",
      "----------------------------------------\n",
      "[7, 45, 81, 69, 37, 89]\n",
      "----------------------------------------\n",
      "[53, 91, 17, 97, 53]\n",
      "----------------------------------------\n",
      "[11, 97, 3]\n",
      "[2, 3, 4, 5, 6, 7]\n",
      "[0, 1, 4, 9, 16, 25]\n",
      "----------------------------------------\n",
      "[3, 7, 11]\n",
      "[(3, -1), (7, -1), (11, -1)]\n",
      "[(1, 2), (3, 4), (5, 6)]\n",
      "[(1, 2), (3, 4), (5, 6)]\n",
      "----------------------------------------\n",
      "the total is: 10\n"
     ]
    }
   ],
   "source": [
    "'''filter函数对应的纯python编写实现'''\n",
    "def myfilter(bool_func,seq):\n",
    "    filtered_seq = []\n",
    "    for eachItem in seq:\n",
    "        if bool_func(eachItem):\n",
    "            filtered_seq.append(eachItem)\n",
    "    return filtered_seq\n",
    "\n",
    "#举例:使用flter来获取任意奇数的简短列表的脚本\n",
    "from random import randint\n",
    "def odd(n):\n",
    "    return n%2\n",
    "allNums = []\n",
    "for eachNum in range(9):\n",
    "    allNums.append(randint(1,99))\n",
    "print filter(odd,allNums)\n",
    "print '-'*40\n",
    "\n",
    "#版本一:使用lambda重构\n",
    "allNums = []\n",
    "for eachNum in range(9):\n",
    "    allNums.append(randint(1,99))\n",
    "print filter(lambda n:n%2,allNums)\n",
    "print '-'*40\n",
    "\n",
    "#版本二,使用列表解析来替代filter\n",
    "allNums = []\n",
    "for eachNum in range(9):\n",
    "    allNums.append(randint(1,99))\n",
    "print [n for n in allNums if n%2]\n",
    "print '-'*40\n",
    "\n",
    "#版本三,生成随机数的语句也使用列表解析实现,然后合并两个列表解析式\n",
    "print [n for n in [randint(1,99) for i in range(9)] if n%2]\n",
    "\n",
    "'''map()将函数调用映射到每个序列的元素上,并返回一个含有所有返回值的列表,使用python函数实现形式如下:'''\n",
    "def mymap(func,seq):\n",
    "    mapped_seq = []\n",
    "    for eachItem in seq:\n",
    "        mapped_seq.append(func(eachItem))\n",
    "    return mapped_seq\n",
    "\n",
    "print map((lambda x:x+2),[0,1,2,3,4,5])\n",
    "print map(lambda x:x**2, range(6))\n",
    "print '-'*40\n",
    "\n",
    "#使用列表解析替代map\n",
    "[x+2 for x in range(6)]\n",
    "print map(lambda x,y:x+y,[1,3,5],[2,4,6])\n",
    "print map(lambda x,y:(x+y,x-y),[1,3,5],[2,4,6])\n",
    "print map(None, [1,3,5],[2,4,6])\n",
    "#使用zip来实现\n",
    "print zip([1,3,5],[2,4,6])\n",
    "print '-'*40\n",
    "\n",
    "'''reduce()函数的纯python实现'''\n",
    "def myreduce(bin_func,seq,init=None):\n",
    "    lseq = list(seq)\n",
    "    if init is None:\n",
    "        res = lseq.pop(0)\n",
    "    else:\n",
    "        res = init\n",
    "    for item in lseq:\n",
    "        res = bin_func(res,item)\n",
    "    return res\n",
    "print 'the total is:',reduce((lambda x,y:x+y),range(5))\n"
   ]
  },
  {
   "cell_type": "markdown",
   "metadata": {
    "collapsed": true
   },
   "source": [
    "## 偏函数应用"
   ]
  },
  {
   "cell_type": "code",
   "execution_count": 6,
   "metadata": {},
   "outputs": [
    {
     "name": "stdout",
     "output_type": "stream",
     "text": [
      "11\n",
      "200\n",
      "----------------------------------------\n",
      "18\n"
     ]
    }
   ],
   "source": [
    "from operator import add,mul\n",
    "from functools import partial\n",
    "add1 = partial(add,1) #相当于add1(x) == add(1,x)\n",
    "mul100 = partial(mul,100)#相当于mul100(x) == mul(100,x)\n",
    "print add1(10)\n",
    "print mul100(2)\n",
    "\n",
    "print '-'*40\n",
    "'''将二进制字符串转成整型'''\n",
    "baseTwo = partial(int, base=2)\n",
    "print baseTwo('10010')\n",
    "#注意:警惕关键字参数,如果创建一个不指定base的偏函数,那么该偏函数会把2作为位置参数,也就是把2当做被转换的数字.\n"
   ]
  },
  {
   "cell_type": "markdown",
   "metadata": {},
   "source": [
    "## global语句"
   ]
  },
  {
   "cell_type": "code",
   "execution_count": 7,
   "metadata": {},
   "outputs": [
    {
     "name": "stdout",
     "output_type": "stream",
     "text": [
      "in __main__, bar is 100\n",
      "\n",
      "calling foo()...\n",
      "in foo(), bar is 200\n",
      "\n",
      "in __main__, bar is (still)  100\n"
     ]
    }
   ],
   "source": [
    "def foo():\n",
    "    print \"\\ncalling foo()...\"\n",
    "    bar = 200\n",
    "    print \"in foo(), bar is\",bar\n",
    "\n",
    "bar = 100\n",
    "print 'in __main__, bar is',bar\n",
    "foo()\n",
    "print \"\\nin __main__, bar is (still) \",bar"
   ]
  },
  {
   "cell_type": "code",
   "execution_count": 10,
   "metadata": {},
   "outputs": [
    {
     "name": "stdout",
     "output_type": "stream",
     "text": [
      "abcdef\n",
      "def\n"
     ]
    }
   ],
   "source": [
    "is_this_global = 'xyz'\n",
    "def foo():\n",
    "    global is_this_global\n",
    "    this_is_local = 'abc'\n",
    "    is_this_global = 'def'\n",
    "    print this_is_local+is_this_global\n",
    "    \n",
    "foo()\n",
    "print is_this_global"
   ]
  },
  {
   "cell_type": "markdown",
   "metadata": {},
   "source": [
    "## 闭包"
   ]
  },
  {
   "cell_type": "code",
   "execution_count": 12,
   "metadata": {},
   "outputs": [
    {
     "name": "stdout",
     "output_type": "stream",
     "text": [
      "6\n",
      "7\n",
      "101\n",
      "102\n"
     ]
    }
   ],
   "source": [
    "'''模拟一个计数器,通过将整型包裹为一个列表的单一元素来模拟使整型易变'''\n",
    "def counter(start_at=0):\n",
    "    count = [start_at]\n",
    "    def incr():\n",
    "        count[0] += 1\n",
    "        return count[0]\n",
    "    return incr\n",
    "\n",
    "count = counter(5)\n",
    "print count()\n",
    "print count()\n",
    "count2 = counter(100)\n",
    "print count2()\n",
    "print count2()"
   ]
  },
  {
   "cell_type": "markdown",
   "metadata": {},
   "source": [
    "## func_closure属性"
   ]
  },
  {
   "cell_type": "code",
   "execution_count": 26,
   "metadata": {},
   "outputs": [
    {
     "name": "stdout",
     "output_type": "stream",
     "text": [
      "no f1 closure vars\n",
      "<int 'w' id=0xb0d188 val=1\n",
      "<int 'x' id=0xb0d188 val=1\n",
      "<int 'y' id=0xb0d188 val=1\n",
      "<int 'z' id=0xb0d188 val=1\n",
      "----------------------------------------\n",
      "<int 'w' id=0xb0d188 val=1\n",
      "<int 'x' id=0xb0d170 val=2\n",
      "<int 'y' id=0xb0d170 val=2\n",
      "<int 'z' id=0xb0d170 val=2\n",
      "----------------------------------------\n",
      "f2 closure vars: ['<cell at 0x7f9bfe30aa98: int object at 0xb0d170>']\n",
      "----------------------------------------\n",
      "<int 'w' id=0xb0d188 val=1\n",
      "<int 'x' id=0xb0d170 val=2\n",
      "<int 'y' id=0xb0d158 val=3\n",
      "<int 'z' id=0xb0d158 val=3\n",
      "----------------------------------------\n",
      "f3 closure vars: ['<cell at 0x7f9bfe30aa98: int object at 0xb0d170>', '<cell at 0x7f9bfe347638: int object at 0xb0d158>']\n",
      "----------------------------------------\n",
      "<int 'w' id=0xb0d188 val=1\n",
      "<int 'x' id=0xb0d170 val=2\n",
      "<int 'y' id=0xb0d158 val=3\n",
      "<int 'z' id=0xb0d140 val=4\n"
     ]
    }
   ],
   "source": [
    "'''追踪闭包词法的变量,这里讨论如何能使用函数func_closure属性来追踪自由变量'''\n",
    "output = '<int %r id=%#0x val=%d'\n",
    "w=x=y=z=1\n",
    "\n",
    "def f1():\n",
    "    x=y=z=2\n",
    "    print output%('w',id(w),w)\n",
    "    print output%('x',id(x),x)\n",
    "    print output%('y',id(y),y)\n",
    "    print output%('z',id(z),z)\n",
    "    print '-'*40\n",
    "    def f2():\n",
    "        y=z=3\n",
    "        print output%('w',id(w),w)\n",
    "        print output%('x',id(x),x)\n",
    "        print output%('y',id(y),y)\n",
    "        print output%('z',id(z),z)\n",
    "        print '-'*40\n",
    "        def f3():\n",
    "            z=4\n",
    "            print output%('w',id(w),w)\n",
    "            print output%('x',id(x),x)\n",
    "            print output%('y',id(y),y)\n",
    "            print output%('z',id(z),z)\n",
    "        clo = f3.func_closure\n",
    "        if clo:\n",
    "            print 'f3 closure vars:',[str(c) for c in clo]\n",
    "        else:\n",
    "            print 'no f3 closure vars'\n",
    "        print '-'*40\n",
    "        f3()\n",
    "    \n",
    "    clo = f2.func_closure\n",
    "    if clo:\n",
    "        print 'f2 closure vars:',[str(c) for c in clo]\n",
    "    else:\n",
    "        print 'no f2 closure vars'\n",
    "    print '-'*40\n",
    "    \n",
    "    f2()\n",
    "    \n",
    "clo = f1.func_closure\n",
    "if clo:\n",
    "    print 'f1 closure vars:',[str(c) for c in clo]\n",
    "else:\n",
    "    print 'no f1 closure vars'\n",
    "    \n",
    "print output%('w',id(w),w)\n",
    "print output%('x',id(x),x)\n",
    "print output%('y',id(y),y)\n",
    "print output%('z',id(z),z)\n",
    "print '-'*40\n",
    "    \n",
    "f1()"
   ]
  },
  {
   "cell_type": "markdown",
   "metadata": {
    "collapsed": true
   },
   "source": [
    "## lambda和作用域"
   ]
  },
  {
   "cell_type": "code",
   "execution_count": 10,
   "metadata": {},
   "outputs": [
    {
     "name": "stdout",
     "output_type": "stream",
     "text": [
      "15\n",
      "----------------------------------------\n",
      "15\n",
      "15\n",
      "18\n"
     ]
    }
   ],
   "source": [
    "x = 10;y=3\n",
    "bar = lambda y=5:x+y\n",
    "print bar()\n",
    "print '-'*40\n",
    "\n",
    "def foo():\n",
    "    y=5\n",
    "    '''\n",
    "    #注意此处的y=y的意思是把foo函数的局部变量y的值赋给lambda表达式的y变量;\n",
    "    这就表明lambda的局部变量y在lambda表达式定义的时候就已经确定为5了,\n",
    "    后面即使foo函数的局部变量y的值发生改变,lambda表达式中的局部变量y的值也不会变.\n",
    "    效果如上面的lambda表达式一样y=5.相当于为lambda表达式设置了一个默认参数.\n",
    "    '''\n",
    "    bar = lambda y=y:x+y \n",
    "    print bar()\n",
    "    y=8\n",
    "    print bar()\n",
    "    print bar(y) #修改lambda的默认参数\n",
    "foo()"
   ]
  },
  {
   "cell_type": "markdown",
   "metadata": {},
   "source": [
    "## 变量作用域和名称空间"
   ]
  },
  {
   "cell_type": "code",
   "execution_count": 14,
   "metadata": {},
   "outputs": [
    {
     "name": "stdout",
     "output_type": "stream",
     "text": [
      "j==3 and k==4\n",
      "j==1 and k==7\n",
      "j==3 and k==4\n",
      "j==6 and k==7\n",
      "j==8 and k==7\n"
     ]
    }
   ],
   "source": [
    "j,k=1,2\n",
    "def proco1():\n",
    "    j,k = 3,4\n",
    "    print \"j==%d and k==%d\" % (j,k) \n",
    "    k = 5\n",
    "    \n",
    "def proco2():\n",
    "    j=6\n",
    "    proco1()\n",
    "    print \"j==%d and k==%d\" % (j,k)\n",
    "    \n",
    "k = 7 #j=1,k=7\n",
    "proco1() #3,4\n",
    "print \"j==%d and k==%d\" % (j,k)#1,7\n",
    "\n",
    "j=8 #j=8,k=7\n",
    "proco2() #3,4----3,5(错了)\n",
    "print \"j==%d and k==%d\" % (j,k) #8,7"
   ]
  },
  {
   "cell_type": "markdown",
   "metadata": {},
   "source": [
    "## 生成器举例"
   ]
  },
  {
   "cell_type": "code",
   "execution_count": 15,
   "metadata": {},
   "outputs": [
    {
     "name": "stdout",
     "output_type": "stream",
     "text": [
      "1\n",
      "2--punch!\n"
     ]
    },
    {
     "ename": "StopIteration",
     "evalue": "",
     "output_type": "error",
     "traceback": [
      "\u001b[0;31m---------------------------------------------------------------------------\u001b[0m",
      "\u001b[0;31mStopIteration\u001b[0m                             Traceback (most recent call last)",
      "\u001b[0;32m<ipython-input-15-72933dc4056a>\u001b[0m in \u001b[0;36m<module>\u001b[0;34m()\u001b[0m\n\u001b[1;32m      7\u001b[0m \u001b[0;32mprint\u001b[0m \u001b[0mmyG\u001b[0m\u001b[0;34m.\u001b[0m\u001b[0mnext\u001b[0m\u001b[0;34m(\u001b[0m\u001b[0;34m)\u001b[0m\u001b[0;34m\u001b[0m\u001b[0m\n\u001b[1;32m      8\u001b[0m \u001b[0;32mprint\u001b[0m \u001b[0mmyG\u001b[0m\u001b[0;34m.\u001b[0m\u001b[0mnext\u001b[0m\u001b[0;34m(\u001b[0m\u001b[0;34m)\u001b[0m\u001b[0;34m\u001b[0m\u001b[0m\n\u001b[0;32m----> 9\u001b[0;31m \u001b[0;32mprint\u001b[0m \u001b[0mmyG\u001b[0m\u001b[0;34m.\u001b[0m\u001b[0mnext\u001b[0m\u001b[0;34m(\u001b[0m\u001b[0;34m)\u001b[0m\u001b[0;34m\u001b[0m\u001b[0m\n\u001b[0m",
      "\u001b[0;31mStopIteration\u001b[0m: "
     ]
    }
   ],
   "source": [
    "def simpleGen():\n",
    "    yield 1\n",
    "    yield '2--punch!'\n",
    "    \n",
    "#调用生成器\n",
    "myG = simpleGen()\n",
    "print myG.next()\n",
    "print myG.next()\n",
    "print myG.next()"
   ]
  },
  {
   "cell_type": "code",
   "execution_count": 16,
   "metadata": {},
   "outputs": [
    {
     "name": "stdout",
     "output_type": "stream",
     "text": [
      "1\n",
      "2--punch!\n"
     ]
    }
   ],
   "source": [
    "#由于python的for循环会自动调用next方法和处理StopIteration异常,所以这样调用生成器会更加简洁友好一些\n",
    "for eachItem in simpleGen():\n",
    "    print eachItem"
   ]
  },
  {
   "cell_type": "code",
   "execution_count": 3,
   "metadata": {},
   "outputs": [
    {
     "name": "stdout",
     "output_type": "stream",
     "text": [
      "rock\n",
      "scissors\n",
      "paper\n"
     ]
    }
   ],
   "source": [
    "from random import randint\n",
    "\n",
    "def randGen(aList):\n",
    "    while len(aList)>0:\n",
    "        yield aList.pop(randint(0,len(aList)-1))\n",
    "        \n",
    "for item in randGen(['rock','paper','scissors']):\n",
    "    print item\n"
   ]
  },
  {
   "cell_type": "code",
   "execution_count": 6,
   "metadata": {},
   "outputs": [
    {
     "name": "stdout",
     "output_type": "stream",
     "text": [
      "5\n",
      "6\n",
      "9\n",
      "10\n"
     ]
    },
    {
     "ename": "StopIteration",
     "evalue": "",
     "output_type": "error",
     "traceback": [
      "\u001b[0;31m---------------------------------------------------------------------------\u001b[0m",
      "\u001b[0;31mStopIteration\u001b[0m                             Traceback (most recent call last)",
      "\u001b[0;32m<ipython-input-6-d52c57a2beeb>\u001b[0m in \u001b[0;36m<module>\u001b[0;34m()\u001b[0m\n\u001b[1;32m     15\u001b[0m \u001b[0;32mprint\u001b[0m \u001b[0mcount\u001b[0m\u001b[0;34m.\u001b[0m\u001b[0mnext\u001b[0m\u001b[0;34m(\u001b[0m\u001b[0;34m)\u001b[0m\u001b[0;34m\u001b[0m\u001b[0m\n\u001b[1;32m     16\u001b[0m \u001b[0mcount\u001b[0m\u001b[0;34m.\u001b[0m\u001b[0mclose\u001b[0m\u001b[0;34m(\u001b[0m\u001b[0;34m)\u001b[0m\u001b[0;34m\u001b[0m\u001b[0m\n\u001b[0;32m---> 17\u001b[0;31m \u001b[0;32mprint\u001b[0m \u001b[0mcount\u001b[0m\u001b[0;34m.\u001b[0m\u001b[0mnext\u001b[0m\u001b[0;34m(\u001b[0m\u001b[0;34m)\u001b[0m \u001b[0;31m#终结之后,继续调用next(),会引发StopIteration错误\u001b[0m\u001b[0;34m\u001b[0m\u001b[0m\n\u001b[0m",
      "\u001b[0;31mStopIteration\u001b[0m: "
     ]
    }
   ],
   "source": [
    "#闭包生成器\n",
    "def counter(start_at=0):\n",
    "    count = start_at\n",
    "    while True:\n",
    "        val = (yield count)\n",
    "        if val is not None:\n",
    "            count = val\n",
    "        else:\n",
    "            count += 1\n",
    "            \n",
    "count = counter(5)\n",
    "print count.next()\n",
    "print count.next()\n",
    "print count.send(9)\n",
    "print count.next()\n",
    "count.close()\n",
    "print count.next() #终结之后,继续调用next(),会引发StopIteration错误"
   ]
  },
  {
   "cell_type": "code",
   "execution_count": null,
   "metadata": {
    "collapsed": true
   },
   "outputs": [],
   "source": []
  }
 ],
 "metadata": {
  "kernelspec": {
   "display_name": "Python 2",
   "language": "python",
   "name": "python2"
  },
  "language_info": {
   "codemirror_mode": {
    "name": "ipython",
    "version": 2
   },
   "file_extension": ".py",
   "mimetype": "text/x-python",
   "name": "python",
   "nbconvert_exporter": "python",
   "pygments_lexer": "ipython2",
   "version": "2.7.13"
  }
 },
 "nbformat": 4,
 "nbformat_minor": 2
}
