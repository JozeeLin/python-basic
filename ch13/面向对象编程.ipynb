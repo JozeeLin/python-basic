{
 "cells": [
  {
   "cell_type": "code",
   "execution_count": 1,
   "metadata": {
    "collapsed": true
   },
   "outputs": [],
   "source": [
    "class MyData(object):\n",
    "    pass"
   ]
  },
  {
   "cell_type": "code",
   "execution_count": 2,
   "metadata": {},
   "outputs": [
    {
     "name": "stdout",
     "output_type": "stream",
     "text": [
      "9\n"
     ]
    }
   ],
   "source": [
    "mydata = MyData()\n",
    "mydata.x = 4\n",
    "mydata.y = 5\n",
    "print mydata.x+mydata.y"
   ]
  },
  {
   "cell_type": "code",
   "execution_count": 13,
   "metadata": {
    "collapsed": true
   },
   "outputs": [],
   "source": [
    "class AddrBookEntry(object):\n",
    "    'address book entry class'\n",
    "    def __init__(self,nm,ph): #定义构造器\n",
    "        self.name = nm        #设置name\n",
    "        self.phone = ph       #设置phone\n",
    "        print 'Created instance for:',self.name\n",
    "        \n",
    "    def updatePhone(self,newph): #定义方法\n",
    "        self.phone = newph\n",
    "        print 'Updated phone# for:',self.name"
   ]
  },
  {
   "cell_type": "code",
   "execution_count": 4,
   "metadata": {},
   "outputs": [
    {
     "name": "stdout",
     "output_type": "stream",
     "text": [
      "Created instance for: John Doe\n"
     ]
    }
   ],
   "source": [
    "john = AddrBookEntry('John Doe','408-555-1212')"
   ]
  },
  {
   "cell_type": "code",
   "execution_count": 6,
   "metadata": {},
   "outputs": [
    {
     "name": "stdout",
     "output_type": "stream",
     "text": [
      "<__main__.AddrBookEntry object at 0x7f2b79f66510>\n",
      "John Doe\n",
      "408-555-1212\n",
      "Updated phone# for: John Doe\n",
      "415-555-1212\n"
     ]
    }
   ],
   "source": [
    "print john\n",
    "print john.name\n",
    "print john.phone\n",
    "john.updatePhone('415-555-1212')\n",
    "print john.phone"
   ]
  },
  {
   "cell_type": "markdown",
   "metadata": {},
   "source": [
    "## 创建子类"
   ]
  },
  {
   "cell_type": "code",
   "execution_count": 7,
   "metadata": {
    "collapsed": true
   },
   "outputs": [],
   "source": [
    "class EmplAddrBookEntry(AddrBookEntry):\n",
    "    'Employee Address Book Entry class' #员工地址簿类\n",
    "    def __init__(self,nm,ph,id,em):\n",
    "        AddrBookEntry.__init__(self,nm,ph)\n",
    "        self.empid = id\n",
    "        self.email = em\n",
    "        \n",
    "    def updateEmail(self,newem):\n",
    "        self.email = newem\n",
    "        print 'Updated e-mail address for:',self.name"
   ]
  },
  {
   "cell_type": "markdown",
   "metadata": {},
   "source": [
    "## 访问类的属性"
   ]
  },
  {
   "cell_type": "code",
   "execution_count": 9,
   "metadata": {},
   "outputs": [
    {
     "name": "stdout",
     "output_type": "stream",
     "text": [
      "['__class__', '__delattr__', '__dict__', '__doc__', '__format__', '__getattribute__', '__hash__', '__init__', '__module__', '__new__', '__reduce__', '__reduce_ex__', '__repr__', '__setattr__', '__sizeof__', '__str__', '__subclasshook__', '__weakref__', 'myVersion', 'showMyVersion']\n",
      "----------------------------------------\n",
      "{'__module__': '__main__', 'showMyVersion': <function showMyVersion at 0x7f2b79ea4f50>, '__dict__': <attribute '__dict__' of 'MyClass' objects>, 'myVersion': '1.1', '__weakref__': <attribute '__weakref__' of 'MyClass' objects>, '__doc__': 'MyClass class definition'}\n"
     ]
    }
   ],
   "source": [
    "class MyClass(object):\n",
    "    'MyClass class definition'\n",
    "    myVersion = '1.1'\n",
    "    def showMyVersion(self,hello):\n",
    "        print MyClass.myVersion\n",
    "        \n",
    "print dir(MyClass)\n",
    "print '-'*40\n",
    "print MyClass.__dict__"
   ]
  },
  {
   "cell_type": "markdown",
   "metadata": {
    "collapsed": true
   },
   "source": [
    "## 实例"
   ]
  },
  {
   "cell_type": "code",
   "execution_count": 2,
   "metadata": {},
   "outputs": [
    {
     "name": "stdout",
     "output_type": "stream",
     "text": [
      "initialized!\n",
      "140152765610896 140152765610896 140152765610896\n",
      "deleted\n"
     ]
    }
   ],
   "source": [
    "class C(object):\n",
    "    def __init__(self):\n",
    "        print 'initialized!'\n",
    "    \n",
    "    def __del__(self):\n",
    "        print 'deleted'\n",
    "        \n",
    "c1 = C()\n",
    "c2 = c1\n",
    "c3 = c1\n",
    "print id(c1),id(c2),id(c3)\n",
    "del c1\n",
    "del c2\n",
    "del c3"
   ]
  },
  {
   "cell_type": "markdown",
   "metadata": {},
   "source": [
    "## 类实例跟踪"
   ]
  },
  {
   "cell_type": "code",
   "execution_count": 3,
   "metadata": {},
   "outputs": [
    {
     "name": "stdout",
     "output_type": "stream",
     "text": [
      "2\n",
      "2\n",
      "1\n",
      "0\n"
     ]
    }
   ],
   "source": [
    "class InstCt(object):\n",
    "    count = 0\n",
    "    def __init__(self):\n",
    "        InstCt.count += 1\n",
    "        \n",
    "    def __del__(self):\n",
    "        InstCt.count -= 1\n",
    "        \n",
    "    def howMany(self):\n",
    "        return InstCt.count\n",
    "    \n",
    "a = InstCt()\n",
    "b = InstCt()\n",
    "print b.howMany()\n",
    "print a.howMany()\n",
    "del b\n",
    "print a.howMany()\n",
    "del a\n",
    "print InstCt.count"
   ]
  },
  {
   "cell_type": "markdown",
   "metadata": {},
   "source": [
    "## 实例属性VS类属性"
   ]
  },
  {
   "cell_type": "code",
   "execution_count": 10,
   "metadata": {},
   "outputs": [
    {
     "name": "stdout",
     "output_type": "stream",
     "text": [
      "1.2\n",
      "1.3\n",
      "1.3\n",
      "1.3\n",
      "----------------------------------------\n",
      "2.5\n",
      "2.4\n",
      "----------------------------------------\n",
      "1.3\n",
      "1.3\n",
      "----------------------------------------\n",
      "{2003: 'poe2'}\n",
      "{2003: 'poe2', 2004: 'valid path'}\n",
      "{2003: 'poe2', 2004: 'valid path'}\n",
      "----------------------------------------\n",
      "AttributeError : 'Foo' object attribute 'x' is read-only\n",
      "----------------------------------------\n",
      "100\n",
      "200\n",
      "200\n",
      "200\n",
      "400\n",
      "----------------------------------------\n"
     ]
    }
   ],
   "source": [
    "'''\n",
    "在python中,通过实例来访问一个属性,首先是在实例中搜索这个属性名,然后是类,再就是继承树中的基类.\n",
    "'''\n",
    "class C(object):\n",
    "    version = 1.2\n",
    "    \n",
    "c = C()\n",
    "b = C()\n",
    "print C.version\n",
    "C.version+=0.1\n",
    "print C.version\n",
    "print c.version\n",
    "print b.version\n",
    "\n",
    "print '-'*40\n",
    "'''\n",
    "注意:任何对实例属性的赋值都会创建一个实例属性.所以类属性对于实例来说是只读的,\n",
    "在实例中对类属性进行写操作实际上是创建一个新的实例属性,并对新的实例属性进行赋值.\n",
    "这样的话,同名的实例属性会覆盖掉类属性.\n",
    "'''\n",
    "c.version = 2.5\n",
    "b.version = 2.4\n",
    "print c.version\n",
    "print b.version\n",
    "print '-'*40\n",
    "#删除掉实例属性的化,就又可以访问类属性了\n",
    "del c.version\n",
    "print C.version\n",
    "print c.version\n",
    "#等效表示法\n",
    "'''\n",
    "等效于c.version = C.version+0.2 ,因为+=表达式是先取出当前的c.version的值,\n",
    "此操作为只读操作,取出来的值为类属性C.version的值,然后加上0.2,最后把中间结果赋值给c.version\n",
    "赋值操作是写操作,这个时候就会创建出实例的version属性,它会覆盖掉原来的类属性\n",
    "'''\n",
    "c.version += 0.2 \n",
    "print '-'*40\n",
    "'''\n",
    "注意:如果类属性是可变类型的话,一切都不同了!!!\n",
    "'''\n",
    "class Foo(object):\n",
    "    x = {2003:'poe2'}\n",
    "    \n",
    "foo = Foo()\n",
    "print foo.x\n",
    "foo.x[2004] = 'valid path'\n",
    "print foo.x\n",
    "print Foo.x #可以看到此时输出的x为实例foo修改过的x\n",
    "print '-'*40\n",
    "\n",
    "try:\n",
    "    del foo.x #报错,AttributeError,因为没有覆盖掉类属性,也就是说当前删除的就是类属性,因此会报错\n",
    "except Exception,e:\n",
    "    print type(e).__name__,':',e\n",
    "    \n",
    "print '-'*40\n",
    "'''\n",
    "类属性持久性:静态成员,顾名思义,任凭整个实例(及其属性)的如何进展,它都不理不睬(独立于实例).\n",
    "当一个实例在类属性被修改后才创建,那么更新的值就将生效.\n",
    "\n",
    "注意:类属性的修改会影响到所有的实例\n",
    "'''\n",
    "class C(object):\n",
    "    spam = 100\n",
    "    \n",
    "c1 = C() #创建一个实例\n",
    "print c1.spam\n",
    "\n",
    "C.spam+=100\n",
    "print C.spam\n",
    "print c1.spam\n",
    "\n",
    "c2 = C()\n",
    "print c2.spam\n",
    "del c1\n",
    "C.spam+=200\n",
    "print c2.spam\n",
    "print '-'*40"
   ]
  },
  {
   "cell_type": "markdown",
   "metadata": {},
   "source": [
    "## 调用非绑定方法"
   ]
  },
  {
   "cell_type": "code",
   "execution_count": 14,
   "metadata": {
    "collapsed": true
   },
   "outputs": [],
   "source": [
    "class EmplAddrBookEntry(AddrBookEntry):\n",
    "    'Employee Address Book Entry class' #员工地址记录条目\n",
    "    def __init__(self,nm,ph,em):\n",
    "        AddrBookEntry.__init__(self,nm,ph)\n",
    "        self.empid = id\n",
    "        self.email = em"
   ]
  },
  {
   "cell_type": "markdown",
   "metadata": {},
   "source": [
    "## 静态方法和类方法"
   ]
  },
  {
   "cell_type": "code",
   "execution_count": 15,
   "metadata": {
    "collapsed": true
   },
   "outputs": [],
   "source": [
    "#经典类中创建静态方法和类方法\n",
    "class TestStaticMethod:\n",
    "    def foo():\n",
    "        print 'calling static method foo()'\n",
    "        foo = staticmethod(foo) #2.7已废弃\n",
    "        \n",
    "class TestClassMethod:\n",
    "    def foo(cls): #cls类似于self\n",
    "        print 'calling class method foo()'\n",
    "        print 'foo() is part of class:',cls.__name__\n",
    "        \n",
    "    foo = classmethod(foo) #2.7已废弃"
   ]
  },
  {
   "cell_type": "code",
   "execution_count": 16,
   "metadata": {
    "collapsed": true
   },
   "outputs": [],
   "source": [
    "#经典类中创建静态方法和类方法\n",
    "class TestStaticMethod:\n",
    "    def foo():\n",
    "        print 'calling static method foo()'\n",
    "        #foo = staticmethod(foo) #2.7已废弃\n",
    "        \n",
    "class TestClassMethod:\n",
    "    def foo(cls): #cls类似于self\n",
    "        print 'calling class method foo()'\n",
    "        print 'foo() is part of class:',cls.__name__\n",
    "        \n",
    "    #foo = classmethod(foo) #2.7已废弃"
   ]
  },
  {
   "cell_type": "markdown",
   "metadata": {},
   "source": [
    "## 派生子类"
   ]
  },
  {
   "cell_type": "code",
   "execution_count": 18,
   "metadata": {},
   "outputs": [
    {
     "name": "stdout",
     "output_type": "stream",
     "text": [
      "calling parent method\n",
      "calling child method\n",
      "calling parent method\n"
     ]
    }
   ],
   "source": [
    "class Parent(object):\n",
    "    def parentMethod(self):\n",
    "        print 'calling parent method'\n",
    "        \n",
    "class Child(Parent):\n",
    "    def childMethod(self):\n",
    "        print 'calling child method'\n",
    "        \n",
    "p = Parent()\n",
    "p.parentMethod()\n",
    "c = Child()\n",
    "c.childMethod()\n",
    "c.parentMethod()"
   ]
  },
  {
   "cell_type": "markdown",
   "metadata": {},
   "source": [
    "## 继承"
   ]
  },
  {
   "cell_type": "code",
   "execution_count": 22,
   "metadata": {},
   "outputs": [
    {
     "name": "stdout",
     "output_type": "stream",
     "text": [
      "<class '__main__.C'>\n",
      "(<class '__main__.P'>,)\n",
      "----------------------------------------\n",
      "Created an instance of P\n",
      "__main__.P\n",
      "()\n",
      "P class\n",
      "----------------------------------------\n",
      "Created an instance of C\n",
      "__main__.C\n",
      "(<class __main__.P at 0x7f6a05922460>,)\n",
      "None\n"
     ]
    }
   ],
   "source": [
    "class P(object):\n",
    "    pass\n",
    "\n",
    "class C(P):\n",
    "    pass\n",
    "\n",
    "c = C()\n",
    "print c.__class__#实例的类名\n",
    "print C.__bases__#C类继承的父类的元组\n",
    "print '-'*40\n",
    "class P:\n",
    "    'P class'\n",
    "    def __init__(self):\n",
    "        print 'Created an instance of', self.__class__.__name__\n",
    "        \n",
    "class C(P):\n",
    "    pass\n",
    "\n",
    "p = P()\n",
    "print p.__class__\n",
    "print P.__bases__ #父类为空\n",
    "print P.__doc__\n",
    "print '-'*40\n",
    "c = C()\n",
    "print c.__class__\n",
    "print C.__bases__\n",
    "print C.__doc__ "
   ]
  },
  {
   "cell_type": "markdown",
   "metadata": {
    "collapsed": true
   },
   "source": [
    "## 通过继承覆盖方法"
   ]
  },
  {
   "cell_type": "code",
   "execution_count": 2,
   "metadata": {},
   "outputs": [
    {
     "name": "stdout",
     "output_type": "stream",
     "text": [
      "Hi,i am P-foo()\n",
      "Hi,i am C-foo()\n",
      "----------------------------------------\n",
      "Hi,i am P-foo()\n",
      "----------------------------------------\n",
      "Hi,i am P-foo()\n",
      "Hi,I am C-foo()\n"
     ]
    }
   ],
   "source": [
    "#在子类中覆盖父类中的方法\n",
    "class P(object):\n",
    "    def foo(self):\n",
    "        print 'Hi,i am P-foo()'\n",
    "        \n",
    "p = P()\n",
    "p.foo()\n",
    "\n",
    "class C(P):\n",
    "    def foo(self):\n",
    "        print 'Hi,i am C-foo()'\n",
    " \n",
    "c = C()\n",
    "c.foo()\n",
    "print '-' * 40\n",
    "'''\n",
    "C继承了P的foo方法,因为C定义了它自己的foo方法,所以P中的foo方法被覆盖(Overrid).\n",
    "覆盖方法的原因之一是你的子类可能需要这个方法具有特定或不同的功能.\n",
    "我还能调用那个被我覆盖的基类方法吗?\n",
    "可以,这时候就需要你去调用一个未绑定的基类方法,明确给出子类的实例.\n",
    "'''\n",
    "P.foo(c) #需要显示的传递一个子类的实例进去\n",
    "print '-'*40\n",
    "#但是通常情况下,你希望在子类的方法中调用即将被覆盖的基类方法\n",
    "class C(P):\n",
    "    def foo(self):\n",
    "        P.foo(self) #在子类中调用被覆盖调用的基类方法.类似与__init__()方法的做法\n",
    "        print 'Hi,I am C-foo()'\n",
    "        \n",
    "class C(P):\n",
    "    def foo(self):\n",
    "        super(C,self).foo() #使用super内建方法,更加友好的方式\n",
    "        print 'Hi,I am C-foo()'\n",
    "        \n",
    "c = C()\n",
    "c.foo()"
   ]
  },
  {
   "cell_type": "markdown",
   "metadata": {},
   "source": [
    "## 从标准类型派生"
   ]
  },
  {
   "cell_type": "code",
   "execution_count": 5,
   "metadata": {},
   "outputs": [
    {
     "name": "stdout",
     "output_type": "stream",
     "text": [
      "1.59\n",
      "1.6\n",
      "-2.0\n",
      "By Iterator: ['zheng-cai', 'xin-yi', 'hui-jun']\n",
      "By Keys:     ['hui-jun', 'xin-yi', 'zheng-cai']\n"
     ]
    }
   ],
   "source": [
    "class RoundFloat(float):\n",
    "    def __new__(cls, val):\n",
    "        return float.__new__(cls,round(val,2))\n",
    "    \n",
    "#使用super来调用基类的方法\n",
    "class RoundFloat(float):\n",
    "    def __new__(cls,val):\n",
    "        return super(RoundFloat,cls).__new__(cls,round(val,2))\n",
    "    \n",
    "'''\n",
    "注意:所有__new__()方法都是类方法,要显示地传入类作为第一个参数.\n",
    "'''\n",
    "print RoundFloat(1.59123)\n",
    "print RoundFloat(1.59512)\n",
    "print RoundFloat(-1.9955)\n",
    "\n",
    "#可变类型的例子\n",
    "'''\n",
    "子类化一个可变类型,可能不需要__new__甚至__init__\n",
    "'''\n",
    "class SortedKeyDict(dict):\n",
    "    def keys(self):\n",
    "        return sorted(super(SortedKeyDict,self).keys()) #使用super找到基类的keys方法\n",
    "    \n",
    "d = SortedKeyDict((('zheng-cai',67),('hui-jun',68),('xin-yi',2)))\n",
    "print 'By Iterator:'.ljust(12), [key for key in d]\n",
    "print 'By Keys:'.ljust(12), [key for key in d.keys()]"
   ]
  },
  {
   "cell_type": "markdown",
   "metadata": {},
   "source": [
    "## 多重继承,方法查找"
   ]
  },
  {
   "cell_type": "code",
   "execution_count": 8,
   "metadata": {},
   "outputs": [
    {
     "name": "stdout",
     "output_type": "stream",
     "text": [
      "called P1-foo()\n",
      "called C2-bar()\n",
      "called C2-bar()\n",
      "----------------------------------------\n",
      "called P1-foo()\n",
      "called C2-bar()\n",
      "called P2-bar()\n"
     ]
    },
    {
     "data": {
      "text/plain": [
       "'\\n\\xe7\\x94\\xb1\\xe4\\xba\\x8e\\xe4\\xb8\\x8a\\xe9\\x9d\\xa2\\xe7\\x9a\\x84\\xe7\\xbb\\xa7\\xe6\\x89\\xbf\\xe5\\x85\\xb3\\xe7\\xb3\\xbb\\xe4\\xb8\\xad,B\\xe5\\x92\\x8cC\\xe7\\xbb\\xa7\\xe6\\x89\\xbf\\xe8\\x87\\xaa\\xe5\\x90\\x8c\\xe4\\xb8\\x80\\xe4\\xb8\\xaa\\xe5\\x9f\\xba\\xe7\\xb1\\xbbobject,\\xe6\\x89\\x80\\xe4\\xbb\\xa5\\xe5\\xa6\\x82\\xe6\\x9e\\x9c\\xe4\\xbd\\xbf\\xe7\\x94\\xa8\\xe7\\xbb\\x8f\\xe5\\x85\\xb8\\xe7\\xb1\\xbbMRO\\xe7\\xae\\x97\\xe6\\xb3\\x95\\xe7\\x9a\\x84\\xe8\\xaf\\x9d,\\nD\\xe5\\xae\\x9e\\xe4\\xbe\\x8b\\xe5\\x8c\\x96\\xe8\\xb0\\x83\\xe7\\x94\\xa8\\xe7\\x9a\\x84__init__\\xe6\\x96\\xb9\\xe6\\xb3\\x95\\xe6\\x98\\xafobject\\xe5\\x9f\\xba\\xe7\\xb1\\xbb\\xe7\\x9a\\x84,\\xe8\\x80\\x8c\\xe4\\xb8\\x8d\\xe6\\x98\\xafC\\xe7\\x88\\xb6\\xe7\\xb1\\xbb\\xe4\\xb8\\xad\\xe7\\x9a\\x84__init__\\xe6\\x96\\xb9\\xe6\\xb3\\x95.\\n\\xe5\\x9b\\xa0\\xe6\\xad\\xa4\\xe9\\x9c\\x80\\xe8\\xa6\\x81\\xe5\\xaf\\xb9\\xe6\\x96\\xb0\\xe5\\xbc\\x8f\\xe7\\xb1\\xbb\\xe4\\xbd\\xbf\\xe7\\x94\\xa8\\xe6\\x96\\xb0\\xe7\\x9a\\x84MRO\\xe7\\xae\\x97\\xe6\\xb3\\x95.\\n\\xe8\\x80\\x8c\\xe7\\xbb\\x8f\\xe5\\x85\\xb8\\xe7\\xb1\\xbb\\xe7\\x9a\\x84\\xe8\\xaf\\x9d,B\\xe5\\x92\\x8cC\\xe7\\x9a\\x84\\xe5\\x9f\\xba\\xe7\\xb1\\xbb\\xe4\\xb8\\xbaNone,\\xe6\\x89\\x80\\xe4\\xbb\\xa5\\xe4\\xb8\\x8d\\xe4\\xbc\\x9a\\xe5\\xbd\\xa2\\xe6\\x88\\x90\\xe8\\x8f\\xb1\\xe5\\xbd\\xa2\\xe7\\x9a\\x84\\xe7\\xbb\\xa7\\xe6\\x89\\xbf\\xe5\\x85\\xb3\\xe7\\xb3\\xbb,\\xe9\\x82\\xa3\\xe4\\xb9\\x88\\xe4\\xbd\\xbf\\xe7\\x94\\xa8\\xe7\\xbb\\x8f\\xe5\\x85\\xb8\\xe7\\xb1\\xbb\\xe7\\x9a\\x84MRO\\xe7\\xae\\x97\\xe6\\xb3\\x95\\xe7\\x9a\\x84\\xe6\\x97\\xb6\\xe5\\x80\\x99,\\n\\xe4\\xb9\\x9f\\xe4\\xb8\\x8d\\xe4\\xbc\\x9a\\xe5\\x87\\xba\\xe7\\x8e\\xb0\\xe9\\x97\\xae\\xe9\\xa2\\x98,\\xe5\\xae\\x83\\xe6\\x9c\\x80\\xe7\\xbb\\x88\\xe4\\xbc\\x9a\\xe8\\xb0\\x83\\xe7\\x94\\xa8C\\xe4\\xb8\\xad\\xe7\\x9a\\x84__init__\\xe6\\x96\\xb9\\xe6\\xb3\\x95\\n'"
      ]
     },
     "execution_count": 8,
     "metadata": {},
     "output_type": "execute_result"
    }
   ],
   "source": [
    "#MRO算法(方法解释顺序)\n",
    "'''使用广度优先的搜索方法.'''\n",
    "\n",
    "#2.1父类是经典类\n",
    "class P1:\n",
    "    def foo(self):\n",
    "        print 'called P1-foo()'\n",
    "        \n",
    "class P2:\n",
    "    def foo(self):\n",
    "        print 'Called P2-foo()'\n",
    "   \n",
    "class C1(P1,P2):\n",
    "    pass\n",
    "\n",
    "class C2(P1,P2):\n",
    "    def bar(self):\n",
    "        print 'called C2-bar()'\n",
    "        \n",
    "class GC(C1,C2):\n",
    "    pass\n",
    "'''我们可以验证经典类使用的解释顺序是深度优先,从左到右'''\n",
    "gc = GC()\n",
    "gc.foo()#当调用foo时,首先在GC中查找.如果没找到,就向上查找最亲的父类,C1->P1->foo()\n",
    "gc.bar() #搜索路径为:GC->C1->P1->P2 体现了先深度,在从左至右搜索\n",
    "C2.bar(gc) #只能使用调用非绑定方式去调用C2中的bar方法\n",
    "print '-'*40\n",
    "#2.2新式类\n",
    "class P1(object):\n",
    "    def foo(self):\n",
    "        print 'called P1-foo()'\n",
    "        \n",
    "class P2(object):\n",
    "    def foo(self):\n",
    "        print 'Called P2-foo()'\n",
    "        \n",
    "    def bar(self):\n",
    "        print 'called P2-bar()'\n",
    "        \n",
    "class C1(P1,P2):\n",
    "    pass\n",
    "\n",
    "class C2(P1,P2):\n",
    "    def bar(self):\n",
    "        print 'called C2-bar()'\n",
    "        \n",
    "class GC(C1,C2):\n",
    "    pass\n",
    "'''使用广度优先,从左到右,查找'''\n",
    "gc = GC()\n",
    "gc.foo() #GC->C1->C2->P1\n",
    "gc.bar() #GC->C1->C2\n",
    "P2.bar(gc) #只能使用调用非绑定方法去调用P2中的bar方法\n",
    "\n",
    "#3.菱形效应引起MRO问题\n",
    "'''\n",
    "为什么新式类使用经典类的MRO算法会失败?\n",
    "举例说明:\n",
    "'''\n",
    "class B(object):\n",
    "    pass\n",
    "\n",
    "class C(object):\n",
    "    def __init__(self):\n",
    "        print 'the default constructor'\n",
    "        \n",
    "class D(B,C):\n",
    "    pass\n",
    "\n",
    "'''\n",
    "由于上面的继承关系中,B和C继承自同一个基类object,所以如果使用经典类MRO算法的话,\n",
    "D实例化调用的__init__方法是object基类的,而不是C父类中的__init__方法.\n",
    "因此需要对新式类使用新的MRO算法.\n",
    "而经典类的话,B和C的基类为None,所以不会形成菱形的继承关系,那么使用经典类的MRO算法的时候,\n",
    "也不会出现问题,它最终会调用C中的__init__方法\n",
    "'''"
   ]
  },
  {
   "cell_type": "markdown",
   "metadata": {},
   "source": [
    "## 特殊定制类"
   ]
  },
  {
   "cell_type": "code",
   "execution_count": 13,
   "metadata": {},
   "outputs": [
    {
     "name": "stdout",
     "output_type": "stream",
     "text": [
      "<__main__.RoundFloatManual object at 0x7f6a55109d50>\n",
      "----------------------------------------\n",
      "4.2\n",
      "----------------------------------------\n",
      "4.20\n",
      "----------------------------------------\n"
     ]
    }
   ],
   "source": [
    "class RoundFloatManual(object):\n",
    "    def __init__(self,val):\n",
    "        assert isinstance(val,float),'Value must be a float!'\n",
    "        self.value = round(val,2)\n",
    "        \n",
    "rfm = RoundFloatManual(4.2)\n",
    "print rfm\n",
    "print '-'*40\n",
    "\n",
    "class RoundFloatManual(object):\n",
    "    def __init__(self,val):\n",
    "        assert isinstance(val,float),'Value must be a float!'\n",
    "        self.value = round(val,2)\n",
    "        \n",
    "    def __str__(self):\n",
    "        return str(self.value)\n",
    "    \n",
    "rfm = RoundFloatManual(4.2)\n",
    "print rfm\n",
    "print '-'*40\n",
    "\n",
    "class RoundFloatManual(object):\n",
    "    def __init__(self,val):\n",
    "        assert isinstance(val, float),'Value must be a float!'\n",
    "        self.value = round(val,2)\n",
    "        \n",
    "    def __str__(self):\n",
    "        return '%.2f' % self.value #保留2为小数\n",
    "    \n",
    "    __repr__ = __str__ #__repr__作为__str__别名\n",
    "    \n",
    "rfm = RoundFloatManual(4.2)\n",
    "print rfm\n",
    "print '-'*40"
   ]
  },
  {
   "cell_type": "markdown",
   "metadata": {},
   "source": [
    "## 数值定制(Time60)"
   ]
  },
  {
   "cell_type": "code",
   "execution_count": 15,
   "metadata": {},
   "outputs": [
    {
     "name": "stdout",
     "output_type": "stream",
     "text": [
      "10:30\n",
      "140094670458640\n",
      "140094670458640\n",
      "21:45\n"
     ]
    }
   ],
   "source": [
    "class Time60(object):\n",
    "    def __init__(self, hr,minute):\n",
    "        self.hr = hr\n",
    "        self.minute = minute\n",
    "        \n",
    "    def __str__(self):\n",
    "        return '%d:%d' % (self.hr,self.minute)\n",
    "    \n",
    "    def __add__(self,other):\n",
    "        #返回一个新的实例,在类中一般不直接调用类名,而是使用__class__\n",
    "        return self.__class__(self.hr+other.hr,self.minute+other.minute) \n",
    "    \n",
    "    __repr__ = __str__\n",
    "    \n",
    "    #原位加法\n",
    "    def __iadd__(self, other):\n",
    "        self.hr += other.hr\n",
    "        self.minute += other.minute\n",
    "        return self\n",
    "    \n",
    "mon = Time60(10,30)\n",
    "tue = Time60(11,15)\n",
    "print mon\n",
    "print id(mon)\n",
    "mon += tue\n",
    "print id(mon)\n",
    "print mon"
   ]
  },
  {
   "cell_type": "markdown",
   "metadata": {
    "collapsed": true
   },
   "source": [
    "## 迭代器"
   ]
  },
  {
   "cell_type": "code",
   "execution_count": 2,
   "metadata": {},
   "outputs": [
    {
     "name": "stdout",
     "output_type": "stream",
     "text": [
      "1 : [0]\n",
      "2 : [1, 2]\n",
      "3 : [3, 4, 5]\n",
      "4 : [6, 7, 8, 9]\n",
      "----------------------------------------\n"
     ]
    },
    {
     "ename": "StopIteration",
     "evalue": "",
     "output_type": "error",
     "traceback": [
      "\u001b[0;31m---------------------------------------------------------------------------\u001b[0m",
      "\u001b[0;31mStopIteration\u001b[0m                             Traceback (most recent call last)",
      "\u001b[0;32m<ipython-input-2-0ff55a0f5c97>\u001b[0m in \u001b[0;36m<module>\u001b[0;34m()\u001b[0m\n\u001b[1;32m     48\u001b[0m \u001b[0;32mprint\u001b[0m \u001b[0;34m'-'\u001b[0m\u001b[0;34m*\u001b[0m\u001b[0;36m40\u001b[0m\u001b[0;34m\u001b[0m\u001b[0m\n\u001b[1;32m     49\u001b[0m \u001b[0mi\u001b[0m \u001b[0;34m=\u001b[0m \u001b[0miter\u001b[0m\u001b[0;34m(\u001b[0m\u001b[0ma\u001b[0m\u001b[0;34m)\u001b[0m\u001b[0;34m\u001b[0m\u001b[0m\n\u001b[0;32m---> 50\u001b[0;31m \u001b[0mi\u001b[0m\u001b[0;34m.\u001b[0m\u001b[0mnext\u001b[0m\u001b[0;34m(\u001b[0m\u001b[0;36m14\u001b[0m\u001b[0;34m)\u001b[0m\u001b[0;34m\u001b[0m\u001b[0m\n\u001b[0m",
      "\u001b[0;32m<ipython-input-2-0ff55a0f5c97>\u001b[0m in \u001b[0;36mnext\u001b[0;34m(self, howmany)\u001b[0m\n\u001b[1;32m     29\u001b[0m         \u001b[0;32mfor\u001b[0m \u001b[0meachItem\u001b[0m \u001b[0;32min\u001b[0m \u001b[0mrange\u001b[0m\u001b[0;34m(\u001b[0m\u001b[0mhowmany\u001b[0m\u001b[0;34m)\u001b[0m\u001b[0;34m:\u001b[0m\u001b[0;34m\u001b[0m\u001b[0m\n\u001b[1;32m     30\u001b[0m             \u001b[0;32mtry\u001b[0m\u001b[0;34m:\u001b[0m\u001b[0;34m\u001b[0m\u001b[0m\n\u001b[0;32m---> 31\u001b[0;31m                 \u001b[0mretval\u001b[0m\u001b[0;34m.\u001b[0m\u001b[0mappend\u001b[0m\u001b[0;34m(\u001b[0m\u001b[0mself\u001b[0m\u001b[0;34m.\u001b[0m\u001b[0miter\u001b[0m\u001b[0;34m.\u001b[0m\u001b[0mnext\u001b[0m\u001b[0;34m(\u001b[0m\u001b[0;34m)\u001b[0m\u001b[0;34m)\u001b[0m\u001b[0;34m\u001b[0m\u001b[0m\n\u001b[0m\u001b[1;32m     32\u001b[0m             \u001b[0;32mexcept\u001b[0m \u001b[0mStopIteration\u001b[0m\u001b[0;34m:\u001b[0m\u001b[0;34m\u001b[0m\u001b[0m\n\u001b[1;32m     33\u001b[0m                 \u001b[0;32mif\u001b[0m \u001b[0mself\u001b[0m\u001b[0;34m.\u001b[0m\u001b[0msafe\u001b[0m\u001b[0;34m:\u001b[0m\u001b[0;34m\u001b[0m\u001b[0m\n",
      "\u001b[0;31mStopIteration\u001b[0m: "
     ]
    }
   ],
   "source": [
    "from random import choice\n",
    "\n",
    "'''\n",
    "这个迭代器唯一的亮点是它没有终点(无穷迭代)\n",
    "'''\n",
    "class RandSeq(object):\n",
    "    def __init__(self,seq):\n",
    "        self.data = seq\n",
    "        \n",
    "    def __iter__(self):\n",
    "        return self\n",
    "    \n",
    "    def next(self):\n",
    "        return choice(self.data)\n",
    "    \n",
    "'''\n",
    "此迭代器一次可返回howmany个元素,默认是1个\n",
    "'''\n",
    "class AnyIter(object):\n",
    "    def __init__(self, data, safe=False):\n",
    "        self.safe = safe\n",
    "        self.iter = iter(data)\n",
    "        \n",
    "    def __iter__(self):\n",
    "        return self\n",
    "    \n",
    "    def next(self, howmany=1):\n",
    "        retval = []\n",
    "        for eachItem in range(howmany):\n",
    "            try:\n",
    "                retval.append(self.iter.next())\n",
    "            except StopIteration:\n",
    "                if self.safe:\n",
    "                    break\n",
    "                else:\n",
    "                    raise\n",
    "        return retval\n",
    "\n",
    "a = AnyIter(range(10),True) #触发StopIteration异常时,不报警,内部处理\n",
    "i = iter(a)\n",
    "i.next(14)\n",
    "\n",
    "a = AnyIter(range(10)) #触发StopIteration,报警,抛出异常\n",
    "i = iter(a)\n",
    "for j in range(1,5):\n",
    "    print j,':',i.next(j)\n",
    "\n",
    "print '-'*40\n",
    "i = iter(a)\n",
    "i.next(14)\n"
   ]
  },
  {
   "cell_type": "markdown",
   "metadata": {},
   "source": [
    "## 多类型定制"
   ]
  },
  {
   "cell_type": "code",
   "execution_count": 5,
   "metadata": {},
   "outputs": [
    {
     "name": "stdout",
     "output_type": "stream",
     "text": [
      "[3 :: 'foo']\n",
      "[3 :: 'goo']\n",
      "[2 :: 'foo']\n",
      "[0 :: '']\n",
      "[0 :: 'boo']\n",
      "[1 :: '']\n",
      "----------------------------------------\n",
      "True\n",
      "False\n",
      "True\n",
      "[6 :: 'googoo']\n",
      "[3 :: 'gooboo']\n",
      "-1\n",
      "0\n",
      "1\n"
     ]
    }
   ],
   "source": [
    "class NumStr(object):\n",
    "    def __init__(self,num=0,string=''):\n",
    "        self.__num = num\n",
    "        self.__string = string\n",
    "        \n",
    "    def __str__(self):\n",
    "        return '[%d :: %r]' % (self.__num,self.__string)\n",
    "    \n",
    "    __repr__ = __str__\n",
    "    \n",
    "    def __add__(self,other):\n",
    "        if isinstance(other, NumStr):\n",
    "            return self.__class__(self.__num+other.__num,self.__string+other.__string)\n",
    "        else:\n",
    "            raise TypeError, 'Illegal argument type for built-in operation'\n",
    "            \n",
    "    def __mul__(self,num):\n",
    "        if isinstance(num,int):\n",
    "            return self.__class__(self.__num*num, self.__string*num)\n",
    "        else:\n",
    "            raise TypeError,'Illegal argument type for built-in operation'\n",
    "            \n",
    "    def __nonzero__(self):\n",
    "        return self.__num or len(self.__string)\n",
    "    \n",
    "    def __norm_cval(self, cmpres):\n",
    "        return cmp(cmpres,0)\n",
    "    \n",
    "    def __cmp__(self, other):\n",
    "        return self.__norm_cval(cmp(self.__num,other.__num))+self.__norm_cval(cmp(self.__string,other.__string))\n",
    "    \n",
    "a = NumStr(3,'foo')\n",
    "b = NumStr(3,'goo')\n",
    "c = NumStr(2,'foo')\n",
    "d = NumStr()\n",
    "e = NumStr(string='boo')\n",
    "f = NumStr(1)\n",
    "print a\n",
    "print b\n",
    "print c\n",
    "print d\n",
    "print e\n",
    "print f\n",
    "print '-'*40\n",
    "print a<b\n",
    "print b<c\n",
    "print a==a\n",
    "print b*2\n",
    "print b+e\n",
    "print cmp(a,b)\n",
    "print cmp(a,a)\n",
    "print cmp(a,c)"
   ]
  },
  {
   "cell_type": "markdown",
   "metadata": {
    "collapsed": true
   },
   "source": [
    "## 包装"
   ]
  },
  {
   "cell_type": "code",
   "execution_count": 15,
   "metadata": {},
   "outputs": [
    {
     "name": "stdout",
     "output_type": "stream",
     "text": [
      "(3.5+4.2j)\n",
      "3.5\n",
      "4.2\n",
      "(3.5-4.2j)\n",
      "(3.5+4.2j)\n",
      "----------------------------------------\n",
      "[123, 'foo', 45.67, 'bar', 123]\n",
      "2\n",
      "2\n",
      "123\n",
      "----------------------------------------\n",
      "hhhhhhh\n",
      "\n",
      "adfahdfahdsklfah\n",
      "\n",
      "OOHASODFANOUFA\n",
      "\n",
      "ofasodifan\n",
      "\n",
      "DFHAOIHDOFNA\n",
      "\n"
     ]
    }
   ],
   "source": [
    "class WrapMe(object):\n",
    "    def __init__(self,obj):\n",
    "        self.__data = obj\n",
    "    def get(self):\n",
    "        return self.__data\n",
    "    def __repr__(self):\n",
    "        return `self.__data`\n",
    "    def __str__(self):\n",
    "        return str(self.__data)\n",
    "    def __getattr__(self,attr):\n",
    "        return getattr(self.__data, attr)\n",
    "    \n",
    "wrappedComplex = WrapMe(3.5+4.2j)\n",
    "print wrappedComplex\n",
    "print wrappedComplex.real\n",
    "print wrappedComplex.imag\n",
    "print wrappedComplex.conjugate()\n",
    "print wrappedComplex.get()\n",
    "print '-'*40\n",
    "\n",
    "wrappedList = WrapMe([123,'foo',45.67])\n",
    "wrappedList.append('bar')\n",
    "wrappedList.append(123)\n",
    "print wrappedList\n",
    "print wrappedList.index(45.67)\n",
    "print wrappedList.count(123)\n",
    "print wrappedList.pop()\n",
    "print '-'*40\n",
    "\n",
    "'''\n",
    "特殊行为没有在类型的方法列表中,不能被访问,因为它们不是属性.一个例子是,对列表的切片操作,\n",
    "它是内建于类型中的,而不是像append方法那样作为属性存在的.从另一个角度来说,切片操作符是\n",
    "序列类型的一部分,并不是通过__getitem__()特殊方法来实现的.\n",
    "'''\n",
    "class CapOpen(object):\n",
    "    def __init__(self,fn,mode='r',buf=-1):\n",
    "        self.file = open(fn,mode,buf)\n",
    "        \n",
    "    def __str__(self):\n",
    "        return str(self.file)\n",
    "    \n",
    "    def __repr__(self):\n",
    "        return self.file\n",
    "    \n",
    "    def write(self,line):\n",
    "        self.file.write(line.upper())\n",
    "        \n",
    "    def __iter__(self): #如果不实现这个方法,会报错,TypeError: 'CapOpen' object is not iterable\n",
    "        return self.file\n",
    "    \n",
    "    def __getattr__(self,attr): #授权\n",
    "        return getattr(self.file, attr)\n",
    "    \n",
    "f = CapOpen('/tmp/helloworld','r')\n",
    "for eachLine in f:\n",
    "    print eachLine"
   ]
  },
  {
   "cell_type": "markdown",
   "metadata": {},
   "source": [
    "## __slots__属性"
   ]
  },
  {
   "cell_type": "code",
   "execution_count": 16,
   "metadata": {},
   "outputs": [
    {
     "ename": "AttributeError",
     "evalue": "'SlottedClass' object has no attribute 'xxx'",
     "output_type": "error",
     "traceback": [
      "\u001b[0;31m---------------------------------------------------------------------------\u001b[0m",
      "\u001b[0;31mAttributeError\u001b[0m                            Traceback (most recent call last)",
      "\u001b[0;32m<ipython-input-16-3fd4d3ffe8e7>\u001b[0m in \u001b[0;36m<module>\u001b[0;34m()\u001b[0m\n\u001b[1;32m      4\u001b[0m \u001b[0mc\u001b[0m \u001b[0;34m=\u001b[0m \u001b[0mSlottedClass\u001b[0m\u001b[0;34m(\u001b[0m\u001b[0;34m)\u001b[0m\u001b[0;34m\u001b[0m\u001b[0m\n\u001b[1;32m      5\u001b[0m \u001b[0mc\u001b[0m\u001b[0;34m.\u001b[0m\u001b[0mfoo\u001b[0m\u001b[0;34m=\u001b[0m\u001b[0;36m3\u001b[0m\u001b[0;34m\u001b[0m\u001b[0m\n\u001b[0;32m----> 6\u001b[0;31m \u001b[0mc\u001b[0m\u001b[0;34m.\u001b[0m\u001b[0mxxx\u001b[0m\u001b[0;34m=\u001b[0m\u001b[0;34m'hello'\u001b[0m\u001b[0;34m\u001b[0m\u001b[0m\n\u001b[0m",
      "\u001b[0;31mAttributeError\u001b[0m: 'SlottedClass' object has no attribute 'xxx'"
     ]
    }
   ],
   "source": [
    "class SlottedClass(object):\n",
    "    __slots__ = ('foo','bar')\n",
    "    \n",
    "c = SlottedClass()\n",
    "c.foo=3\n",
    "c.xxx='hello'"
   ]
  },
  {
   "cell_type": "markdown",
   "metadata": {},
   "source": [
    "## 描述符"
   ]
  },
  {
   "cell_type": "code",
   "execution_count": 22,
   "metadata": {},
   "outputs": [
    {
     "name": "stdout",
     "output_type": "stream",
     "text": [
      "c1.foo contains: None\n",
      "----------------------------------------\n",
      "Attempt to assign 'bar'...ignoring\n",
      "Accessing attribute...ignoring\n",
      "c2.foo contains: None\n",
      "----------------------------------------\n"
     ]
    }
   ],
   "source": [
    "class DevNull(object):\n",
    "    def __get__(self, obj, typ=None):\n",
    "        pass\n",
    "    def __set__(self, obj, val):\n",
    "        pass\n",
    "    \n",
    "class C1(object):\n",
    "    foo = DevNull()\n",
    "    \n",
    "c1 = C1()\n",
    "c1.foo = 'bar'\n",
    "print 'c1.foo contains:',c1.foo\n",
    "print '-'*40\n",
    "\n",
    "class DevNull2(object):\n",
    "    def __get__(self, obj, typ=None):\n",
    "        print 'Accessing attribute...ignoring'\n",
    "        \n",
    "    def __set__(self,obj,val):\n",
    "        print 'Attempt to assign %r...ignoring' % (val)\n",
    "        \n",
    "class C2(object):\n",
    "    foo = DevNull2()\n",
    "    \n",
    "c2 = C2()\n",
    "c2.foo = 'bar'\n",
    "x = c2.foo\n",
    "print 'c2.foo contains:',x\n",
    "print '-'*40"
   ]
  },
  {
   "cell_type": "markdown",
   "metadata": {},
   "source": [
    "## 属性和property()内建函数"
   ]
  },
  {
   "cell_type": "code",
   "execution_count": 23,
   "metadata": {},
   "outputs": [
    {
     "name": "stdout",
     "output_type": "stream",
     "text": [
      "10\n",
      "30\n"
     ]
    }
   ],
   "source": [
    "class HideX(object):\n",
    "    def __init__(self,x):\n",
    "        assert isinstance(x,int),'\"x\" must be an integer!'\n",
    "        self.__x = ~x\n",
    "        \n",
    "    def get_x(self):\n",
    "        return ~self.__x\n",
    "    \n",
    "    def set_x(self,x):\n",
    "        assert isinstance(x,int), '\"x\" must be an integer!'\n",
    "        self.__x = ~x\n",
    "        \n",
    "    x = property(get_x,set_x)\n",
    "    \n",
    "inst = HideX(10)\n",
    "print inst.x\n",
    "inst.x = 30\n",
    "print inst.x"
   ]
  },
  {
   "cell_type": "markdown",
   "metadata": {},
   "source": [
    "## 元类"
   ]
  },
  {
   "cell_type": "code",
   "execution_count": 25,
   "metadata": {},
   "outputs": [
    {
     "name": "stdout",
     "output_type": "stream",
     "text": [
      "*** Defined ReqStrSugRepr (meta)class\n",
      "\n",
      "*** Defined Foo class\n",
      "\n"
     ]
    }
   ],
   "source": [
    "class ReqStrSugRepr(type):\n",
    "    def __init__(cls,name,bases,attrd):\n",
    "        super(ReqStrSugRepr,cls).__init__(name,bases,attrd)\n",
    "        \n",
    "        if '__str__' not in attrd:\n",
    "            raise TypeError('Class requires overriding of __str__()')\n",
    "            \n",
    "        if '__repr__' not in attrd:\n",
    "            warn('Class suggests overriding of __repr__()\\n', stacklevel=3)\n",
    "            \n",
    "print '*** Defined ReqStrSugRepr (meta)class\\n'\n",
    "\n",
    "class Foo(object):\n",
    "    __metaclass__ = ReqStrSugRepr\n",
    "    \n",
    "    def __str__(self):\n",
    "        return 'Instance of class:',self.__class__.__name__\n",
    "    \n",
    "    def __repr__(self):\n",
    "        return self.__class__.__name__\n",
    "    \n",
    "print '*** Defined Foo class\\n'"
   ]
  },
  {
   "cell_type": "code",
   "execution_count": null,
   "metadata": {
    "collapsed": true
   },
   "outputs": [],
   "source": []
  }
 ],
 "metadata": {
  "kernelspec": {
   "display_name": "Python 2",
   "language": "python",
   "name": "python2"
  },
  "language_info": {
   "codemirror_mode": {
    "name": "ipython",
    "version": 2
   },
   "file_extension": ".py",
   "mimetype": "text/x-python",
   "name": "python",
   "nbconvert_exporter": "python",
   "pygments_lexer": "ipython2",
   "version": "2.7.13"
  }
 },
 "nbformat": 4,
 "nbformat_minor": 2
}
