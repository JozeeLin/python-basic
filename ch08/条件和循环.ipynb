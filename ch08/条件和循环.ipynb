{
 "cells": [
  {
   "cell_type": "markdown",
   "metadata": {
    "collapsed": true
   },
   "source": [
    "## for循环-用于序列类型"
   ]
  },
  {
   "cell_type": "code",
   "execution_count": 3,
   "metadata": {},
   "outputs": [
    {
     "name": "stdout",
     "output_type": "stream",
     "text": [
      "current letter:  N\n",
      "current letter:  a\n",
      "current letter:  m\n",
      "current letter:  e\n",
      "current letter:  s\n",
      "current letter:  Names\n",
      "current letter:  N\n",
      "current letter:  a\n",
      "current letter:  m\n",
      "current letter:  e\n",
      "current letter:  s\n",
      "current letter:  Names\n",
      "1 Donn Lee\n",
      "2 Shirley Lee\n",
      "3 Ben Lee\n",
      "4 Janice Lee\n"
     ]
    }
   ],
   "source": [
    "for eachLetter in 'Names':\n",
    "    print 'current letter: ',eachLetter\n",
    "    \n",
    "for eachLetter in ['Names']:\n",
    "    print 'current letter: ',eachLetter\n",
    "    \n",
    "for eachLetter in ('Names'):\n",
    "    print 'current letter: ',eachLetter\n",
    "    \n",
    "for eachLetter in ('Names',):\n",
    "    print 'current letter: ',eachLetter\n",
    "    \n",
    "#使用项和索引迭代\n",
    "nameList = ['Donn','Shirley','Ben','Janice']\n",
    "for i,eachLee in enumerate(nameList):\n",
    "    print \"%d %s Lee\" % (i+1,eachLee)"
   ]
  },
  {
   "cell_type": "code",
   "execution_count": 4,
   "metadata": {},
   "outputs": [
    {
     "name": "stdout",
     "output_type": "stream",
     "text": [
      "Freud Gaudi Poe Poe2 Poe2\n",
      "Freud\n",
      "Gaudi\n",
      "Poe\n",
      "0 Poe\n",
      "1 Gaudi\n",
      "2 Freud\n",
      "3 Poe2\n",
      "1976 Poe\n",
      "1987 Gaudi\n",
      "1990 Freud\n",
      "2003 Poe2\n"
     ]
    }
   ],
   "source": [
    "albums = ('Poe','Gaudi','Freud','Poe2')\n",
    "years = (1976,1987,1990,2003)\n",
    "\n",
    "for album in sorted(albums):\n",
    "    print album,\n",
    "    \n",
    "for album in reversed(albums):\n",
    "    print album\n",
    "    \n",
    "for i,album in enumerate(albums):\n",
    "    print i,album\n",
    "    \n",
    "for album,yr in zip(albums,years):\n",
    "    print yr,album"
   ]
  },
  {
   "cell_type": "markdown",
   "metadata": {},
   "source": [
    "### 在while、for语句单独搭配else使用"
   ]
  },
  {
   "cell_type": "code",
   "execution_count": 5,
   "metadata": {},
   "outputs": [
    {
     "name": "stdout",
     "output_type": "stream",
     "text": [
      "largest factor of 10 is 5\n",
      "11 is prime\n",
      "largest factor of 12 is 6\n",
      "13 is prime\n",
      "largest factor of 14 is 7\n",
      "largest factor of 15 is 5\n",
      "largest factor of 16 is 8\n",
      "17 is prime\n",
      "largest factor of 18 is 9\n",
      "19 is prime\n",
      "largest factor of 20 is 10\n"
     ]
    }
   ],
   "source": [
    "def showMaxFactor(num):\n",
    "    count = num/2\n",
    "    while count>1:\n",
    "        if num%count == 0:\n",
    "            print 'largest factor of %d is %d' % (num,count)\n",
    "            break\n",
    "        count -= 1\n",
    "    else:\n",
    "        print num,\"is prime\"\n",
    "        \n",
    "for eachNum in range(10,21):\n",
    "    showMaxFactor(eachNum)"
   ]
  },
  {
   "cell_type": "markdown",
   "metadata": {},
   "source": [
    "### 使用迭代器"
   ]
  },
  {
   "cell_type": "code",
   "execution_count": 6,
   "metadata": {},
   "outputs": [
    {
     "name": "stdout",
     "output_type": "stream",
     "text": [
      "123\n",
      "xyz\n",
      "45.67\n"
     ]
    },
    {
     "ename": "StopIteration",
     "evalue": "",
     "output_type": "error",
     "traceback": [
      "\u001b[0;31m---------------------------------------------------------------------------\u001b[0m",
      "\u001b[0;31mStopIteration\u001b[0m                             Traceback (most recent call last)",
      "\u001b[0;32m<ipython-input-6-ad74de28154c>\u001b[0m in \u001b[0;36m<module>\u001b[0;34m()\u001b[0m\n\u001b[1;32m      5\u001b[0m \u001b[0;32mprint\u001b[0m \u001b[0mi\u001b[0m\u001b[0;34m.\u001b[0m\u001b[0mnext\u001b[0m\u001b[0;34m(\u001b[0m\u001b[0;34m)\u001b[0m\u001b[0;34m\u001b[0m\u001b[0m\n\u001b[1;32m      6\u001b[0m \u001b[0;32mprint\u001b[0m \u001b[0mi\u001b[0m\u001b[0;34m.\u001b[0m\u001b[0mnext\u001b[0m\u001b[0;34m(\u001b[0m\u001b[0;34m)\u001b[0m\u001b[0;34m\u001b[0m\u001b[0m\n\u001b[0;32m----> 7\u001b[0;31m \u001b[0;32mprint\u001b[0m \u001b[0mi\u001b[0m\u001b[0;34m.\u001b[0m\u001b[0mnext\u001b[0m\u001b[0;34m(\u001b[0m\u001b[0;34m)\u001b[0m \u001b[0;31m#这个会引发StopIteration异常，使用try-except捕获异常\u001b[0m\u001b[0;34m\u001b[0m\u001b[0m\n\u001b[0m",
      "\u001b[0;31mStopIteration\u001b[0m: "
     ]
    }
   ],
   "source": [
    "#序列\n",
    "myTuple = (123,'xyz',45.67)\n",
    "i = iter(myTuple)\n",
    "print i.next()\n",
    "print i.next()\n",
    "print i.next()\n",
    "print i.next() #这个会引发StopIteration异常，使用try-except捕获异常"
   ]
  },
  {
   "cell_type": "code",
   "execution_count": 12,
   "metadata": {},
   "outputs": [
    {
     "name": "stdout",
     "output_type": "stream",
     "text": [
      "123\n",
      "xyz\n",
      "45.67\n",
      "font-name:courier new\n",
      "\n",
      "font-size:10\n",
      "\n"
     ]
    }
   ],
   "source": [
    "#通过try-except捕获异常，这样就可以不中断程序了\n",
    "fetch = iter(myTuple)\n",
    "while True:\n",
    "    try:\n",
    "        i = fetch.next()\n",
    "    except StopIteration:\n",
    "        break\n",
    "    print i\n",
    "    \n",
    "#文件对象生成的迭代器会自动调用readline方法。循环就可以访问文本文件中所有行。\n",
    "myFile = open('config-win.txt')\n",
    "for eachLine in myFile:\n",
    "    print eachLine\n",
    "myFile.close()"
   ]
  },
  {
   "cell_type": "markdown",
   "metadata": {},
   "source": [
    "### 列表解析"
   ]
  },
  {
   "cell_type": "code",
   "execution_count": 6,
   "metadata": {},
   "outputs": [
    {
     "name": "stdout",
     "output_type": "stream",
     "text": [
      "[0, 1, 4, 9, 16, 25]\n",
      "[0, 1, 4, 9, 16, 25]\n",
      "[11, 9, 9, 9, 23, 9, 7, 11]\n",
      "[11, 9, 9, 9, 23, 9, 7, 11]\n",
      "[(1, 1), (1, 2), (1, 3), (1, 4), (1, 5), (2, 1), (2, 2), (2, 3), (2, 4), (2, 5), (3, 1), (3, 2), (3, 3), (3, 4), (3, 5)]\n",
      "3\n",
      "35\n"
     ]
    }
   ],
   "source": [
    "print map(lambda x: x**2,range(6)) #调用了map，range函数和lambda\n",
    "#使用性能更好的列表解析来实现上面语句的功能\n",
    "print [x**2 for x in range(6)] #只调用了一次range函数\n",
    "#判断某个数是偶数还是奇数\n",
    "def odd(n): #使用函数的方式实现\n",
    "    return n%2\n",
    "\n",
    "seq = [11,10,9,9,10,10,9,8,23,9,7,18,12,11,12]\n",
    "print filter(lambda x: x%2,seq) #使用filter和lambda挑选出序列中的奇数\n",
    "print [x for x in seq if x%2] #使用列表解析\n",
    "\n",
    "#矩阵样例，3行5列的矩阵\n",
    "print [(x+1,y+1) for x in range(3) for y in range(5)]\n",
    "#磁盘文件样例：计算文件中所有非空白字符的数目\n",
    "f = open('config-win.txt','r')\n",
    "print len([word for line in f for word in line.split()]) #计算单词数量\n",
    "#快速计算文件大小\n",
    "import os\n",
    "print os.stat('config-win.txt').st_size"
   ]
  },
  {
   "cell_type": "markdown",
   "metadata": {},
   "source": [
    "### 生成器表达式"
   ]
  },
  {
   "cell_type": "code",
   "execution_count": null,
   "metadata": {
    "collapsed": true
   },
   "outputs": [],
   "source": [
    "#为了避免创建庞大的列表，我们可以使用生成器表达式来完成求和操作。它会计算每个单词的长度然后传递给sum函数\n",
    "sum(len(word) for line in data for word in line.split()) #跟列表解析的区别仅仅是把方括号去掉而已\n",
    "\n",
    "#交叉配对样例\n",
    "rows = [1,2,3,7] #使用列表，类似列表解析的结果\n",
    "def cols(): #简单的生成器\n",
    "    yield 56\n",
    "    yield 2\n",
    "    yield 1\n",
    "    \n",
    "x_product_pairs = ((i,j) for i in rows for j in cols())\n",
    "for pairs in x_product_pairs:\n",
    "    print pairs\n",
    "    \n",
    "#重构样例（很重要）。寻找文件最长的行\n",
    "\n",
    "#版本一\n",
    "f = open('/etc/motd','r')\n",
    "longest = 0\n",
    "while True:\n",
    "    linelen = len(f.readline().strip())\n",
    "    if not linelen: break\n",
    "    if linelen > longest:\n",
    "        longest = linelen\n",
    "f.close()\n",
    "print longest\n",
    "\n",
    "#版本二，如果读取了所有的行，那么应该尽早释放文件资源。如果这是一个很多进程都要用到的日志文件，那么理所当然我们不能一直拿着它的句柄不释放\n",
    "f = open('/etc/motd','r')\n",
    "longest = 0\n",
    "allLines = f.readlines()\n",
    "f.close() #尽早释放文件句柄\n",
    "for line in allLines:\n",
    "    linelen = len(line.strip())\n",
    "    if linelen > longest:\n",
    "        longest = linelen\n",
    "print longest\n",
    "\n",
    "#版本三，使用列表解析简化代码\n",
    "f = open('/etc/motd','r')\n",
    "longest = 0\n",
    "allLines = [x.strip() for x in f.readlines()]\n",
    "f.close()\n",
    "\n",
    "for line in allLines:\n",
    "    linelen = len(line)\n",
    "    if linelen > longest:\n",
    "        longest = linelen\n",
    "print longest\n",
    "\n",
    "#版本四，文件句柄本身就是一个迭代器，不需要调用readlines函数\n",
    "f = open('/etc/motd','r')\n",
    "allLineLens = [len(x.strip()) for x in f]\n",
    "f.close()\n",
    "print max(allLineLens)\n",
    "\n",
    "#版本五，版本四总，一行一行地迭代f的时候，列表解析需要文件中的所有行读取到内存中，然后生成列表。这里使用生成器表达式替换列表解析\n",
    "f = open('/etc/motd','r')\n",
    "longest = max(len(x.strip()) for x in f)\n",
    "f.close()\n",
    "print longest\n",
    "\n",
    "#版本六，去掉文件打开模式，让python去处理打开的文件\n",
    "print max(len(x.strip()) for x in open('/etc/motd'))"
   ]
  }
 ],
 "metadata": {
  "kernelspec": {
   "display_name": "Python 2",
   "language": "python",
   "name": "python2"
  },
  "language_info": {
   "codemirror_mode": {
    "name": "ipython",
    "version": 2
   },
   "file_extension": ".py",
   "mimetype": "text/x-python",
   "name": "python",
   "nbconvert_exporter": "python",
   "pygments_lexer": "ipython2",
   "version": "2.7.13"
  }
 },
 "nbformat": 4,
 "nbformat_minor": 2
}
